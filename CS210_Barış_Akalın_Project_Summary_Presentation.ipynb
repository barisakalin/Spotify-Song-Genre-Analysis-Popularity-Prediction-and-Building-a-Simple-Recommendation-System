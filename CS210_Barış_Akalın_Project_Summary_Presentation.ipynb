{
  "nbformat": 4,
  "nbformat_minor": 0,
  "metadata": {
    "colab": {
      "name": "CS210_Barış_Akalın_Project_Summary_Presentation.ipynb",
      "provenance": [],
      "collapsed_sections": [
        "qpqfFOnSP2HT"
      ],
      "toc_visible": true
    },
    "kernelspec": {
      "name": "python3",
      "display_name": "Python 3"
    },
    "language_info": {
      "name": "python"
    }
  },
  "cells": [
    {
      "cell_type": "markdown",
      "metadata": {
        "id": "b-r9RX8-i6sp"
      },
      "source": [
        "# [Spotify Song & Genre Analysis, Popularity Prediction and Building a Simple Recommendation System - 48]\n",
        "\n",
        "Barış Akalın 27043"
      ]
    },
    {
      "cell_type": "markdown",
      "metadata": {
        "id": "3rSwGzqV3eTJ"
      },
      "source": [
        "#PART 1"
      ]
    },
    {
      "cell_type": "markdown",
      "metadata": {
        "id": "2-qLSQa0cFn6"
      },
      "source": [
        "##Installing Required Libraries"
      ]
    },
    {
      "cell_type": "code",
      "metadata": {
        "colab": {
          "base_uri": "https://localhost:8080/"
        },
        "id": "X2pbbfZFmB9X",
        "outputId": "25084e6b-79fa-44f6-fa4b-c77b40b904ac"
      },
      "source": [
        "from google.colab import drive\n",
        "drive.mount(\"./drive\", force_remount=True)\n",
        "\n",
        "path_prefix = \"./drive/My Drive\""
      ],
      "execution_count": null,
      "outputs": [
        {
          "output_type": "stream",
          "text": [
            "Mounted at ./drive\n"
          ],
          "name": "stdout"
        }
      ]
    },
    {
      "cell_type": "code",
      "metadata": {
        "id": "wyYjMTEEmxvo"
      },
      "source": [
        "import pandas as pd  \n",
        "import numpy as np\n",
        "import matplotlib.pyplot as plt\n",
        "from os.path import join\n",
        "import seaborn as sns\n",
        "import re\n",
        "sns.set_style(\"darkgrid\")\n",
        "from scipy import stats\n",
        "from scipy import special\n",
        "from sklearn.model_selection import train_test_split \n",
        "from sklearn import metrics\n",
        "from sklearn.tree import DecisionTreeClassifier\n",
        "from sklearn.metrics import accuracy_score\n",
        "from sklearn.tree import export_text\n",
        "from sklearn.externals.six import StringIO  \n",
        "from IPython.display import Image  \n",
        "from sklearn.tree import export_graphviz\n",
        "import pydotplus\n",
        "from sklearn.model_selection import GridSearchCV\n",
        "from sklearn.ensemble import RandomForestClassifier"
      ],
      "execution_count": null,
      "outputs": []
    },
    {
      "cell_type": "markdown",
      "metadata": {
        "id": "o3ugUiDZcnQ-"
      },
      "source": [
        "##Visualizations Descriptive Statistics\n",
        "\n",
        "Firstly, first five elements of dataframe are displayed."
      ]
    },
    {
      "cell_type": "markdown",
      "metadata": {
        "id": "u3DZrAblxop3"
      },
      "source": [
        "###Basic Informations about the Data"
      ]
    },
    {
      "cell_type": "code",
      "metadata": {
        "colab": {
          "base_uri": "https://localhost:8080/",
          "height": 411
        },
        "id": "ADZgwSTEnEYQ",
        "outputId": "039243b9-acc0-4554-dddb-b78429202a6c"
      },
      "source": [
        "filename = \"data.csv\"\n",
        "df = pd.read_csv(join(path_prefix, filename))\n",
        "df.head()"
      ],
      "execution_count": null,
      "outputs": [
        {
          "output_type": "execute_result",
          "data": {
            "text/html": [
              "<div>\n",
              "<style scoped>\n",
              "    .dataframe tbody tr th:only-of-type {\n",
              "        vertical-align: middle;\n",
              "    }\n",
              "\n",
              "    .dataframe tbody tr th {\n",
              "        vertical-align: top;\n",
              "    }\n",
              "\n",
              "    .dataframe thead th {\n",
              "        text-align: right;\n",
              "    }\n",
              "</style>\n",
              "<table border=\"1\" class=\"dataframe\">\n",
              "  <thead>\n",
              "    <tr style=\"text-align: right;\">\n",
              "      <th></th>\n",
              "      <th>acousticness</th>\n",
              "      <th>artists</th>\n",
              "      <th>danceability</th>\n",
              "      <th>duration_ms</th>\n",
              "      <th>energy</th>\n",
              "      <th>explicit</th>\n",
              "      <th>id</th>\n",
              "      <th>instrumentalness</th>\n",
              "      <th>key</th>\n",
              "      <th>liveness</th>\n",
              "      <th>loudness</th>\n",
              "      <th>mode</th>\n",
              "      <th>name</th>\n",
              "      <th>popularity</th>\n",
              "      <th>release_date</th>\n",
              "      <th>speechiness</th>\n",
              "      <th>tempo</th>\n",
              "      <th>valence</th>\n",
              "      <th>year</th>\n",
              "    </tr>\n",
              "  </thead>\n",
              "  <tbody>\n",
              "    <tr>\n",
              "      <th>0</th>\n",
              "      <td>0.991000</td>\n",
              "      <td>['Mamie Smith']</td>\n",
              "      <td>0.598</td>\n",
              "      <td>168333</td>\n",
              "      <td>0.224</td>\n",
              "      <td>0</td>\n",
              "      <td>0cS0A1fUEUd1EW3FcF8AEI</td>\n",
              "      <td>0.000522</td>\n",
              "      <td>5</td>\n",
              "      <td>0.3790</td>\n",
              "      <td>-12.628</td>\n",
              "      <td>0</td>\n",
              "      <td>Keep A Song In Your Soul</td>\n",
              "      <td>12</td>\n",
              "      <td>1920</td>\n",
              "      <td>0.0936</td>\n",
              "      <td>149.976</td>\n",
              "      <td>0.6340</td>\n",
              "      <td>1920</td>\n",
              "    </tr>\n",
              "    <tr>\n",
              "      <th>1</th>\n",
              "      <td>0.643000</td>\n",
              "      <td>[\"Screamin' Jay Hawkins\"]</td>\n",
              "      <td>0.852</td>\n",
              "      <td>150200</td>\n",
              "      <td>0.517</td>\n",
              "      <td>0</td>\n",
              "      <td>0hbkKFIJm7Z05H8Zl9w30f</td>\n",
              "      <td>0.026400</td>\n",
              "      <td>5</td>\n",
              "      <td>0.0809</td>\n",
              "      <td>-7.261</td>\n",
              "      <td>0</td>\n",
              "      <td>I Put A Spell On You</td>\n",
              "      <td>7</td>\n",
              "      <td>1920-01-05</td>\n",
              "      <td>0.0534</td>\n",
              "      <td>86.889</td>\n",
              "      <td>0.9500</td>\n",
              "      <td>1920</td>\n",
              "    </tr>\n",
              "    <tr>\n",
              "      <th>2</th>\n",
              "      <td>0.993000</td>\n",
              "      <td>['Mamie Smith']</td>\n",
              "      <td>0.647</td>\n",
              "      <td>163827</td>\n",
              "      <td>0.186</td>\n",
              "      <td>0</td>\n",
              "      <td>11m7laMUgmOKqI3oYzuhne</td>\n",
              "      <td>0.000018</td>\n",
              "      <td>0</td>\n",
              "      <td>0.5190</td>\n",
              "      <td>-12.098</td>\n",
              "      <td>1</td>\n",
              "      <td>Golfing Papa</td>\n",
              "      <td>4</td>\n",
              "      <td>1920</td>\n",
              "      <td>0.1740</td>\n",
              "      <td>97.600</td>\n",
              "      <td>0.6890</td>\n",
              "      <td>1920</td>\n",
              "    </tr>\n",
              "    <tr>\n",
              "      <th>3</th>\n",
              "      <td>0.000173</td>\n",
              "      <td>['Oscar Velazquez']</td>\n",
              "      <td>0.730</td>\n",
              "      <td>422087</td>\n",
              "      <td>0.798</td>\n",
              "      <td>0</td>\n",
              "      <td>19Lc5SfJJ5O1oaxY0fpwfh</td>\n",
              "      <td>0.801000</td>\n",
              "      <td>2</td>\n",
              "      <td>0.1280</td>\n",
              "      <td>-7.311</td>\n",
              "      <td>1</td>\n",
              "      <td>True House Music - Xavier Santos &amp; Carlos Gomi...</td>\n",
              "      <td>17</td>\n",
              "      <td>1920-01-01</td>\n",
              "      <td>0.0425</td>\n",
              "      <td>127.997</td>\n",
              "      <td>0.0422</td>\n",
              "      <td>1920</td>\n",
              "    </tr>\n",
              "    <tr>\n",
              "      <th>4</th>\n",
              "      <td>0.295000</td>\n",
              "      <td>['Mixe']</td>\n",
              "      <td>0.704</td>\n",
              "      <td>165224</td>\n",
              "      <td>0.707</td>\n",
              "      <td>1</td>\n",
              "      <td>2hJjbsLCytGsnAHfdsLejp</td>\n",
              "      <td>0.000246</td>\n",
              "      <td>10</td>\n",
              "      <td>0.4020</td>\n",
              "      <td>-6.036</td>\n",
              "      <td>0</td>\n",
              "      <td>Xuniverxe</td>\n",
              "      <td>2</td>\n",
              "      <td>1920-10-01</td>\n",
              "      <td>0.0768</td>\n",
              "      <td>122.076</td>\n",
              "      <td>0.2990</td>\n",
              "      <td>1920</td>\n",
              "    </tr>\n",
              "  </tbody>\n",
              "</table>\n",
              "</div>"
            ],
            "text/plain": [
              "   acousticness                    artists  ...  valence  year\n",
              "0      0.991000            ['Mamie Smith']  ...   0.6340  1920\n",
              "1      0.643000  [\"Screamin' Jay Hawkins\"]  ...   0.9500  1920\n",
              "2      0.993000            ['Mamie Smith']  ...   0.6890  1920\n",
              "3      0.000173        ['Oscar Velazquez']  ...   0.0422  1920\n",
              "4      0.295000                   ['Mixe']  ...   0.2990  1920\n",
              "\n",
              "[5 rows x 19 columns]"
            ]
          },
          "metadata": {
            "tags": []
          },
          "execution_count": 6
        }
      ]
    },
    {
      "cell_type": "markdown",
      "metadata": {
        "id": "GZZvWMAgdgOe"
      },
      "source": [
        "Basic informations about the dataframe are displayed via describe method."
      ]
    },
    {
      "cell_type": "code",
      "metadata": {
        "colab": {
          "base_uri": "https://localhost:8080/",
          "height": 317
        },
        "id": "x2HdCB60dA1X",
        "outputId": "5e0c1814-6696-414d-dd3e-2cd12c834572"
      },
      "source": [
        "df.describe()"
      ],
      "execution_count": null,
      "outputs": [
        {
          "output_type": "execute_result",
          "data": {
            "text/html": [
              "<div>\n",
              "<style scoped>\n",
              "    .dataframe tbody tr th:only-of-type {\n",
              "        vertical-align: middle;\n",
              "    }\n",
              "\n",
              "    .dataframe tbody tr th {\n",
              "        vertical-align: top;\n",
              "    }\n",
              "\n",
              "    .dataframe thead th {\n",
              "        text-align: right;\n",
              "    }\n",
              "</style>\n",
              "<table border=\"1\" class=\"dataframe\">\n",
              "  <thead>\n",
              "    <tr style=\"text-align: right;\">\n",
              "      <th></th>\n",
              "      <th>acousticness</th>\n",
              "      <th>danceability</th>\n",
              "      <th>duration_ms</th>\n",
              "      <th>energy</th>\n",
              "      <th>explicit</th>\n",
              "      <th>instrumentalness</th>\n",
              "      <th>key</th>\n",
              "      <th>liveness</th>\n",
              "      <th>loudness</th>\n",
              "      <th>mode</th>\n",
              "      <th>popularity</th>\n",
              "      <th>speechiness</th>\n",
              "      <th>tempo</th>\n",
              "      <th>valence</th>\n",
              "      <th>year</th>\n",
              "    </tr>\n",
              "  </thead>\n",
              "  <tbody>\n",
              "    <tr>\n",
              "      <th>count</th>\n",
              "      <td>174389.000000</td>\n",
              "      <td>174389.000000</td>\n",
              "      <td>1.743890e+05</td>\n",
              "      <td>174389.000000</td>\n",
              "      <td>174389.000000</td>\n",
              "      <td>174389.000000</td>\n",
              "      <td>174389.000000</td>\n",
              "      <td>174389.000000</td>\n",
              "      <td>174389.000000</td>\n",
              "      <td>174389.000000</td>\n",
              "      <td>174389.000000</td>\n",
              "      <td>174389.000000</td>\n",
              "      <td>174389.000000</td>\n",
              "      <td>174389.000000</td>\n",
              "      <td>174389.000000</td>\n",
              "    </tr>\n",
              "    <tr>\n",
              "      <th>mean</th>\n",
              "      <td>0.499228</td>\n",
              "      <td>0.536758</td>\n",
              "      <td>2.328100e+05</td>\n",
              "      <td>0.482721</td>\n",
              "      <td>0.068135</td>\n",
              "      <td>0.197252</td>\n",
              "      <td>5.205305</td>\n",
              "      <td>0.211123</td>\n",
              "      <td>-11.750865</td>\n",
              "      <td>0.702384</td>\n",
              "      <td>25.693381</td>\n",
              "      <td>0.105729</td>\n",
              "      <td>117.006500</td>\n",
              "      <td>0.524533</td>\n",
              "      <td>1977.061764</td>\n",
              "    </tr>\n",
              "    <tr>\n",
              "      <th>std</th>\n",
              "      <td>0.379936</td>\n",
              "      <td>0.176025</td>\n",
              "      <td>1.483958e+05</td>\n",
              "      <td>0.272685</td>\n",
              "      <td>0.251978</td>\n",
              "      <td>0.334574</td>\n",
              "      <td>3.518292</td>\n",
              "      <td>0.180493</td>\n",
              "      <td>5.691591</td>\n",
              "      <td>0.457211</td>\n",
              "      <td>21.872740</td>\n",
              "      <td>0.182260</td>\n",
              "      <td>30.254178</td>\n",
              "      <td>0.264477</td>\n",
              "      <td>26.907950</td>\n",
              "    </tr>\n",
              "    <tr>\n",
              "      <th>min</th>\n",
              "      <td>0.000000</td>\n",
              "      <td>0.000000</td>\n",
              "      <td>4.937000e+03</td>\n",
              "      <td>0.000000</td>\n",
              "      <td>0.000000</td>\n",
              "      <td>0.000000</td>\n",
              "      <td>0.000000</td>\n",
              "      <td>0.000000</td>\n",
              "      <td>-60.000000</td>\n",
              "      <td>0.000000</td>\n",
              "      <td>0.000000</td>\n",
              "      <td>0.000000</td>\n",
              "      <td>0.000000</td>\n",
              "      <td>0.000000</td>\n",
              "      <td>1920.000000</td>\n",
              "    </tr>\n",
              "    <tr>\n",
              "      <th>25%</th>\n",
              "      <td>0.087700</td>\n",
              "      <td>0.414000</td>\n",
              "      <td>1.661330e+05</td>\n",
              "      <td>0.249000</td>\n",
              "      <td>0.000000</td>\n",
              "      <td>0.000000</td>\n",
              "      <td>2.000000</td>\n",
              "      <td>0.099200</td>\n",
              "      <td>-14.908000</td>\n",
              "      <td>0.000000</td>\n",
              "      <td>1.000000</td>\n",
              "      <td>0.035200</td>\n",
              "      <td>93.931000</td>\n",
              "      <td>0.311000</td>\n",
              "      <td>1955.000000</td>\n",
              "    </tr>\n",
              "    <tr>\n",
              "      <th>50%</th>\n",
              "      <td>0.517000</td>\n",
              "      <td>0.548000</td>\n",
              "      <td>2.057870e+05</td>\n",
              "      <td>0.465000</td>\n",
              "      <td>0.000000</td>\n",
              "      <td>0.000524</td>\n",
              "      <td>5.000000</td>\n",
              "      <td>0.138000</td>\n",
              "      <td>-10.836000</td>\n",
              "      <td>1.000000</td>\n",
              "      <td>25.000000</td>\n",
              "      <td>0.045500</td>\n",
              "      <td>115.816000</td>\n",
              "      <td>0.536000</td>\n",
              "      <td>1977.000000</td>\n",
              "    </tr>\n",
              "    <tr>\n",
              "      <th>75%</th>\n",
              "      <td>0.895000</td>\n",
              "      <td>0.669000</td>\n",
              "      <td>2.657200e+05</td>\n",
              "      <td>0.711000</td>\n",
              "      <td>0.000000</td>\n",
              "      <td>0.252000</td>\n",
              "      <td>8.000000</td>\n",
              "      <td>0.270000</td>\n",
              "      <td>-7.499000</td>\n",
              "      <td>1.000000</td>\n",
              "      <td>42.000000</td>\n",
              "      <td>0.076300</td>\n",
              "      <td>135.011000</td>\n",
              "      <td>0.743000</td>\n",
              "      <td>1999.000000</td>\n",
              "    </tr>\n",
              "    <tr>\n",
              "      <th>max</th>\n",
              "      <td>0.996000</td>\n",
              "      <td>0.988000</td>\n",
              "      <td>5.338302e+06</td>\n",
              "      <td>1.000000</td>\n",
              "      <td>1.000000</td>\n",
              "      <td>1.000000</td>\n",
              "      <td>11.000000</td>\n",
              "      <td>1.000000</td>\n",
              "      <td>3.855000</td>\n",
              "      <td>1.000000</td>\n",
              "      <td>100.000000</td>\n",
              "      <td>0.971000</td>\n",
              "      <td>243.507000</td>\n",
              "      <td>1.000000</td>\n",
              "      <td>2021.000000</td>\n",
              "    </tr>\n",
              "  </tbody>\n",
              "</table>\n",
              "</div>"
            ],
            "text/plain": [
              "        acousticness   danceability  ...        valence           year\n",
              "count  174389.000000  174389.000000  ...  174389.000000  174389.000000\n",
              "mean        0.499228       0.536758  ...       0.524533    1977.061764\n",
              "std         0.379936       0.176025  ...       0.264477      26.907950\n",
              "min         0.000000       0.000000  ...       0.000000    1920.000000\n",
              "25%         0.087700       0.414000  ...       0.311000    1955.000000\n",
              "50%         0.517000       0.548000  ...       0.536000    1977.000000\n",
              "75%         0.895000       0.669000  ...       0.743000    1999.000000\n",
              "max         0.996000       0.988000  ...       1.000000    2021.000000\n",
              "\n",
              "[8 rows x 15 columns]"
            ]
          },
          "metadata": {
            "tags": []
          },
          "execution_count": 7
        }
      ]
    },
    {
      "cell_type": "markdown",
      "metadata": {
        "id": "av0om7q-eJeH"
      },
      "source": [
        "Number of rows and columns are displayed. "
      ]
    },
    {
      "cell_type": "code",
      "metadata": {
        "colab": {
          "base_uri": "https://localhost:8080/"
        },
        "id": "S6actEXMeWpq",
        "outputId": "b72f94da-cbaf-40f3-cf67-6bffc1ba803e"
      },
      "source": [
        "df.shape"
      ],
      "execution_count": null,
      "outputs": [
        {
          "output_type": "execute_result",
          "data": {
            "text/plain": [
              "(174389, 19)"
            ]
          },
          "metadata": {
            "tags": []
          },
          "execution_count": 8
        }
      ]
    },
    {
      "cell_type": "markdown",
      "metadata": {
        "id": "lyFtqiX1esNn"
      },
      "source": [
        "Data types of column are displayed."
      ]
    },
    {
      "cell_type": "code",
      "metadata": {
        "colab": {
          "base_uri": "https://localhost:8080/"
        },
        "id": "J9Y31Xtoeh8-",
        "outputId": "309f0391-3e72-4fb6-e4a3-4ff93e977cd8"
      },
      "source": [
        "df.dtypes"
      ],
      "execution_count": null,
      "outputs": [
        {
          "output_type": "execute_result",
          "data": {
            "text/plain": [
              "acousticness        float64\n",
              "artists              object\n",
              "danceability        float64\n",
              "duration_ms           int64\n",
              "energy              float64\n",
              "explicit              int64\n",
              "id                   object\n",
              "instrumentalness    float64\n",
              "key                   int64\n",
              "liveness            float64\n",
              "loudness            float64\n",
              "mode                  int64\n",
              "name                 object\n",
              "popularity            int64\n",
              "release_date         object\n",
              "speechiness         float64\n",
              "tempo               float64\n",
              "valence             float64\n",
              "year                  int64\n",
              "dtype: object"
            ]
          },
          "metadata": {
            "tags": []
          },
          "execution_count": 9
        }
      ]
    },
    {
      "cell_type": "markdown",
      "metadata": {
        "id": "sGXnhUMie40o"
      },
      "source": [
        "Checking for NaN values. Since no NaN values exist in this dataframe, no operation is needed to fix them. "
      ]
    },
    {
      "cell_type": "code",
      "metadata": {
        "colab": {
          "base_uri": "https://localhost:8080/"
        },
        "id": "b7gQqDfJey6j",
        "outputId": "25da4c65-1810-4ceb-8609-d65038d03d20"
      },
      "source": [
        "df.isna().sum()"
      ],
      "execution_count": null,
      "outputs": [
        {
          "output_type": "execute_result",
          "data": {
            "text/plain": [
              "acousticness        0\n",
              "artists             0\n",
              "danceability        0\n",
              "duration_ms         0\n",
              "energy              0\n",
              "explicit            0\n",
              "id                  0\n",
              "instrumentalness    0\n",
              "key                 0\n",
              "liveness            0\n",
              "loudness            0\n",
              "mode                0\n",
              "name                0\n",
              "popularity          0\n",
              "release_date        0\n",
              "speechiness         0\n",
              "tempo               0\n",
              "valence             0\n",
              "year                0\n",
              "dtype: int64"
            ]
          },
          "metadata": {
            "tags": []
          },
          "execution_count": 10
        }
      ]
    },
    {
      "cell_type": "markdown",
      "metadata": {
        "id": "qxCJTldVxw5X"
      },
      "source": [
        "###Visualization of Data according to the Features"
      ]
    },
    {
      "cell_type": "code",
      "metadata": {
        "colab": {
          "base_uri": "https://localhost:8080/",
          "height": 296
        },
        "id": "LiDB9w7GiYpx",
        "outputId": "0e903e96-5347-428f-aff0-7ec49c719c23"
      },
      "source": [
        "#distribution plots of features in dataframe\n",
        "\n",
        "ax = df[\"acousticness\"].plot.hist()\n",
        "ax.set_xlabel('acousticness')\n",
        "ax.set_ylabel('# of songs')"
      ],
      "execution_count": null,
      "outputs": [
        {
          "output_type": "execute_result",
          "data": {
            "text/plain": [
              "Text(0, 0.5, '# of songs')"
            ]
          },
          "metadata": {
            "tags": []
          },
          "execution_count": 8
        },
        {
          "output_type": "display_data",
          "data": {
            "image/png": "[encoded data removed]",
            "text/plain": [
              "<Figure size 432x288 with 1 Axes>"
            ]
          },
          "metadata": {
            "tags": []
          }
        }
      ]
    },
    {
      "cell_type": "code",
      "metadata": {
        "colab": {
          "base_uri": "https://localhost:8080/",
          "height": 296
        },
        "id": "Mseg3fTPjHgi",
        "outputId": "e0809d6f-b85e-4c3e-b1da-b6c339c89a05"
      },
      "source": [
        "ax = df[\"danceability\"].plot.hist()\n",
        "ax.set_xlabel('danceability')\n",
        "ax.set_ylabel('# of songs')"
      ],
      "execution_count": null,
      "outputs": [
        {
          "output_type": "execute_result",
          "data": {
            "text/plain": [
              "Text(0, 0.5, '# of songs')"
            ]
          },
          "metadata": {
            "tags": []
          },
          "execution_count": 9
        },
        {
          "output_type": "display_data",
          "data": {
            "image/png": "[encoded data removed]",
            "text/plain": [
              "<Figure size 432x288 with 1 Axes>"
            ]
          },
          "metadata": {
            "tags": []
          }
        }
      ]
    },
    {
      "cell_type": "markdown",
      "metadata": {
        "id": "HYZXINLEpu4E"
      },
      "source": [
        "In below, log transformation is used to decrease skewness of data."
      ]
    },
    {
      "cell_type": "code",
      "metadata": {
        "colab": {
          "base_uri": "https://localhost:8080/",
          "height": 296
        },
        "id": "A18BQEoVjPm9",
        "outputId": "033085bc-332f-4eb1-acab-d9e0517006cd"
      },
      "source": [
        "df['duration_ms'] = np.log(df.duration_ms)\n",
        "ax = df[\"duration_ms\"].plot.hist()\n",
        "ax.set_xlabel('duration(log)')\n",
        "ax.set_ylabel('# of songs')"
      ],
      "execution_count": null,
      "outputs": [
        {
          "output_type": "execute_result",
          "data": {
            "text/plain": [
              "Text(0, 0.5, '# of songs')"
            ]
          },
          "metadata": {
            "tags": []
          },
          "execution_count": 10
        },
        {
          "output_type": "display_data",
          "data": {
            "image/png": "[encoded data removed]",
            "text/plain": [
              "<Figure size 432x288 with 1 Axes>"
            ]
          },
          "metadata": {
            "tags": []
          }
        }
      ]
    },
    {
      "cell_type": "code",
      "metadata": {
        "colab": {
          "base_uri": "https://localhost:8080/",
          "height": 296
        },
        "id": "N9v2DsRpjDsq",
        "outputId": "ae8d8453-6b6b-4c9c-e5ed-76341c99cfae"
      },
      "source": [
        "ax = df[\"energy\"].plot.hist()\n",
        "ax.set_xlabel('energy')\n",
        "ax.set_ylabel('# of songs')"
      ],
      "execution_count": null,
      "outputs": [
        {
          "output_type": "execute_result",
          "data": {
            "text/plain": [
              "Text(0, 0.5, '# of songs')"
            ]
          },
          "metadata": {
            "tags": []
          },
          "execution_count": 11
        },
        {
          "output_type": "display_data",
          "data": {
            "image/png": "[encoded data removed]",
            "text/plain": [
              "<Figure size 432x288 with 1 Axes>"
            ]
          },
          "metadata": {
            "tags": []
          }
        }
      ]
    },
    {
      "cell_type": "code",
      "metadata": {
        "colab": {
          "base_uri": "https://localhost:8080/",
          "height": 296
        },
        "id": "ekgj8BNatoOx",
        "outputId": "b54a58fd-8f95-4adf-8fc4-946d948b34f0"
      },
      "source": [
        "ax = df[\"liveness\"].plot.hist()\n",
        "ax.set_xlabel('liveness')\n",
        "ax.set_ylabel('# of songs')"
      ],
      "execution_count": null,
      "outputs": [
        {
          "output_type": "execute_result",
          "data": {
            "text/plain": [
              "Text(0, 0.5, '# of songs')"
            ]
          },
          "metadata": {
            "tags": []
          },
          "execution_count": 15
        },
        {
          "output_type": "display_data",
          "data": {
            "image/png": "[encoded data removed]",
            "text/plain": [
              "<Figure size 432x288 with 1 Axes>"
            ]
          },
          "metadata": {
            "tags": []
          }
        }
      ]
    },
    {
      "cell_type": "code",
      "metadata": {
        "colab": {
          "base_uri": "https://localhost:8080/",
          "height": 296
        },
        "id": "1u0Xo_50vM0p",
        "outputId": "13e60562-4e19-49af-8d70-bcdf775e9adf"
      },
      "source": [
        "ax = df[\"valence\"].plot.hist()\n",
        "ax.set_xlabel('valence')\n",
        "ax.set_ylabel('# of songs')"
      ],
      "execution_count": null,
      "outputs": [
        {
          "output_type": "execute_result",
          "data": {
            "text/plain": [
              "Text(0, 0.5, '# of songs')"
            ]
          },
          "metadata": {
            "tags": []
          },
          "execution_count": 20
        },
        {
          "output_type": "display_data",
          "data": {
            "image/png": "[encoded data removed]",
            "text/plain": [
              "<Figure size 432x288 with 1 Axes>"
            ]
          },
          "metadata": {
            "tags": []
          }
        }
      ]
    },
    {
      "cell_type": "markdown",
      "metadata": {
        "id": "67UNRdpNyEmH"
      },
      "source": [
        "Since all features will not be used, plotting for some features is skipped."
      ]
    },
    {
      "cell_type": "markdown",
      "metadata": {
        "id": "9k3teq4W2Z1F"
      },
      "source": [
        "##Visualizations of Aggregated Forms Based on Features"
      ]
    },
    {
      "cell_type": "markdown",
      "metadata": {
        "id": "B1YU_iRYKkGP"
      },
      "source": [
        "Here are the phases of merging two dataframes according to artists"
      ]
    },
    {
      "cell_type": "code",
      "metadata": {
        "colab": {
          "base_uri": "https://localhost:8080/",
          "height": 479
        },
        "id": "XhusSkrXByDV",
        "outputId": "a00d6b17-81b8-42ef-84e0-8f9870b248f8"
      },
      "source": [
        "filename_wgenres = \"data_w_genres[1].csv\"\n",
        "df_wgenres = pd.read_csv(join(path_prefix, filename_wgenres))\n",
        "df_wgenres.head()"
      ],
      "execution_count": null,
      "outputs": [
        {
          "output_type": "execute_result",
          "data": {
            "text/html": [
              "<div>\n",
              "<style scoped>\n",
              "    .dataframe tbody tr th:only-of-type {\n",
              "        vertical-align: middle;\n",
              "    }\n",
              "\n",
              "    .dataframe tbody tr th {\n",
              "        vertical-align: top;\n",
              "    }\n",
              "\n",
              "    .dataframe thead th {\n",
              "        text-align: right;\n",
              "    }\n",
              "</style>\n",
              "<table border=\"1\" class=\"dataframe\">\n",
              "  <thead>\n",
              "    <tr style=\"text-align: right;\">\n",
              "      <th></th>\n",
              "      <th>artists</th>\n",
              "      <th>acousticness</th>\n",
              "      <th>danceability</th>\n",
              "      <th>duration_ms</th>\n",
              "      <th>energy</th>\n",
              "      <th>instrumentalness</th>\n",
              "      <th>liveness</th>\n",
              "      <th>loudness</th>\n",
              "      <th>speechiness</th>\n",
              "      <th>tempo</th>\n",
              "      <th>valence</th>\n",
              "      <th>popularity</th>\n",
              "      <th>key</th>\n",
              "      <th>mode</th>\n",
              "      <th>count</th>\n",
              "      <th>genres</th>\n",
              "    </tr>\n",
              "  </thead>\n",
              "  <tbody>\n",
              "    <tr>\n",
              "      <th>0</th>\n",
              "      <td>\"Cats\" 1981 Original London Cast</td>\n",
              "      <td>0.598500</td>\n",
              "      <td>0.470100</td>\n",
              "      <td>267072.000000</td>\n",
              "      <td>0.376203</td>\n",
              "      <td>0.010261</td>\n",
              "      <td>0.283050</td>\n",
              "      <td>-14.434300</td>\n",
              "      <td>0.209150</td>\n",
              "      <td>114.128800</td>\n",
              "      <td>0.358320</td>\n",
              "      <td>38.200000</td>\n",
              "      <td>5</td>\n",
              "      <td>1</td>\n",
              "      <td>10</td>\n",
              "      <td>['show tunes']</td>\n",
              "    </tr>\n",
              "    <tr>\n",
              "      <th>1</th>\n",
              "      <td>\"Cats\" 1983 Broadway Cast</td>\n",
              "      <td>0.862538</td>\n",
              "      <td>0.441731</td>\n",
              "      <td>287280.000000</td>\n",
              "      <td>0.406808</td>\n",
              "      <td>0.081158</td>\n",
              "      <td>0.315215</td>\n",
              "      <td>-10.690000</td>\n",
              "      <td>0.176212</td>\n",
              "      <td>103.044154</td>\n",
              "      <td>0.268865</td>\n",
              "      <td>31.538462</td>\n",
              "      <td>5</td>\n",
              "      <td>1</td>\n",
              "      <td>26</td>\n",
              "      <td>[]</td>\n",
              "    </tr>\n",
              "    <tr>\n",
              "      <th>2</th>\n",
              "      <td>\"Fiddler On The Roof” Motion Picture Chorus</td>\n",
              "      <td>0.856571</td>\n",
              "      <td>0.348286</td>\n",
              "      <td>328920.000000</td>\n",
              "      <td>0.286571</td>\n",
              "      <td>0.024593</td>\n",
              "      <td>0.325786</td>\n",
              "      <td>-15.230714</td>\n",
              "      <td>0.118514</td>\n",
              "      <td>77.375857</td>\n",
              "      <td>0.354857</td>\n",
              "      <td>34.571429</td>\n",
              "      <td>0</td>\n",
              "      <td>1</td>\n",
              "      <td>7</td>\n",
              "      <td>[]</td>\n",
              "    </tr>\n",
              "    <tr>\n",
              "      <th>3</th>\n",
              "      <td>\"Fiddler On The Roof” Motion Picture Orchestra</td>\n",
              "      <td>0.884926</td>\n",
              "      <td>0.425074</td>\n",
              "      <td>262890.962963</td>\n",
              "      <td>0.245770</td>\n",
              "      <td>0.073587</td>\n",
              "      <td>0.275481</td>\n",
              "      <td>-15.639370</td>\n",
              "      <td>0.123200</td>\n",
              "      <td>88.667630</td>\n",
              "      <td>0.372030</td>\n",
              "      <td>34.407407</td>\n",
              "      <td>0</td>\n",
              "      <td>1</td>\n",
              "      <td>27</td>\n",
              "      <td>[]</td>\n",
              "    </tr>\n",
              "    <tr>\n",
              "      <th>4</th>\n",
              "      <td>\"Joseph And The Amazing Technicolor Dreamcoat\"...</td>\n",
              "      <td>0.510714</td>\n",
              "      <td>0.467143</td>\n",
              "      <td>270436.142857</td>\n",
              "      <td>0.488286</td>\n",
              "      <td>0.009400</td>\n",
              "      <td>0.195000</td>\n",
              "      <td>-10.236714</td>\n",
              "      <td>0.098543</td>\n",
              "      <td>122.835857</td>\n",
              "      <td>0.482286</td>\n",
              "      <td>42.000000</td>\n",
              "      <td>5</td>\n",
              "      <td>1</td>\n",
              "      <td>7</td>\n",
              "      <td>[]</td>\n",
              "    </tr>\n",
              "  </tbody>\n",
              "</table>\n",
              "</div>"
            ],
            "text/plain": [
              "                                             artists  ...          genres\n",
              "0                   \"Cats\" 1981 Original London Cast  ...  ['show tunes']\n",
              "1                          \"Cats\" 1983 Broadway Cast  ...              []\n",
              "2        \"Fiddler On The Roof” Motion Picture Chorus  ...              []\n",
              "3     \"Fiddler On The Roof” Motion Picture Orchestra  ...              []\n",
              "4  \"Joseph And The Amazing Technicolor Dreamcoat\"...  ...              []\n",
              "\n",
              "[5 rows x 16 columns]"
            ]
          },
          "metadata": {
            "tags": []
          },
          "execution_count": 12
        }
      ]
    },
    {
      "cell_type": "code",
      "metadata": {
        "id": "XXKIAt9rJAu-"
      },
      "source": [
        "df['artists'] = df['artists'].apply(lambda x: re.findall(r'[\\']([\\w\\s-]+)[\\']', x))"
      ],
      "execution_count": null,
      "outputs": []
    },
    {
      "cell_type": "code",
      "metadata": {
        "id": "ZxmJuBtqKGmT"
      },
      "source": [
        "df = df.explode('artists')"
      ],
      "execution_count": null,
      "outputs": []
    },
    {
      "cell_type": "code",
      "metadata": {
        "id": "AUdaDLFDKQ3N"
      },
      "source": [
        "merged = pd.merge(df, df_wgenres, on=\"artists\")"
      ],
      "execution_count": null,
      "outputs": []
    },
    {
      "cell_type": "code",
      "metadata": {
        "colab": {
          "base_uri": "https://localhost:8080/",
          "height": 561
        },
        "id": "DF8WrpIPLu0R",
        "outputId": "0399b917-81a5-40e0-fce0-0701492c0990"
      },
      "source": [
        "merged = merged.set_index(\"genres\")\n",
        "merged.head()"
      ],
      "execution_count": null,
      "outputs": [
        {
          "output_type": "execute_result",
          "data": {
            "text/html": [
              "<div>\n",
              "<style scoped>\n",
              "    .dataframe tbody tr th:only-of-type {\n",
              "        vertical-align: middle;\n",
              "    }\n",
              "\n",
              "    .dataframe tbody tr th {\n",
              "        vertical-align: top;\n",
              "    }\n",
              "\n",
              "    .dataframe thead th {\n",
              "        text-align: right;\n",
              "    }\n",
              "</style>\n",
              "<table border=\"1\" class=\"dataframe\">\n",
              "  <thead>\n",
              "    <tr style=\"text-align: right;\">\n",
              "      <th></th>\n",
              "      <th>acousticness_x</th>\n",
              "      <th>artists</th>\n",
              "      <th>danceability_x</th>\n",
              "      <th>duration_ms_x</th>\n",
              "      <th>energy_x</th>\n",
              "      <th>explicit</th>\n",
              "      <th>id</th>\n",
              "      <th>instrumentalness_x</th>\n",
              "      <th>key_x</th>\n",
              "      <th>liveness_x</th>\n",
              "      <th>loudness_x</th>\n",
              "      <th>mode_x</th>\n",
              "      <th>name</th>\n",
              "      <th>popularity_x</th>\n",
              "      <th>release_date</th>\n",
              "      <th>speechiness_x</th>\n",
              "      <th>tempo_x</th>\n",
              "      <th>valence_x</th>\n",
              "      <th>year</th>\n",
              "      <th>acousticness_y</th>\n",
              "      <th>danceability_y</th>\n",
              "      <th>duration_ms_y</th>\n",
              "      <th>energy_y</th>\n",
              "      <th>instrumentalness_y</th>\n",
              "      <th>liveness_y</th>\n",
              "      <th>loudness_y</th>\n",
              "      <th>speechiness_y</th>\n",
              "      <th>tempo_y</th>\n",
              "      <th>valence_y</th>\n",
              "      <th>popularity_y</th>\n",
              "      <th>key_y</th>\n",
              "      <th>mode_y</th>\n",
              "      <th>count</th>\n",
              "    </tr>\n",
              "    <tr>\n",
              "      <th>genres</th>\n",
              "      <th></th>\n",
              "      <th></th>\n",
              "      <th></th>\n",
              "      <th></th>\n",
              "      <th></th>\n",
              "      <th></th>\n",
              "      <th></th>\n",
              "      <th></th>\n",
              "      <th></th>\n",
              "      <th></th>\n",
              "      <th></th>\n",
              "      <th></th>\n",
              "      <th></th>\n",
              "      <th></th>\n",
              "      <th></th>\n",
              "      <th></th>\n",
              "      <th></th>\n",
              "      <th></th>\n",
              "      <th></th>\n",
              "      <th></th>\n",
              "      <th></th>\n",
              "      <th></th>\n",
              "      <th></th>\n",
              "      <th></th>\n",
              "      <th></th>\n",
              "      <th></th>\n",
              "      <th></th>\n",
              "      <th></th>\n",
              "      <th></th>\n",
              "      <th></th>\n",
              "      <th></th>\n",
              "      <th></th>\n",
              "      <th></th>\n",
              "    </tr>\n",
              "  </thead>\n",
              "  <tbody>\n",
              "    <tr>\n",
              "      <th>['harlem renaissance', 'traditional blues']</th>\n",
              "      <td>0.991</td>\n",
              "      <td>Mamie Smith</td>\n",
              "      <td>0.598</td>\n",
              "      <td>168333</td>\n",
              "      <td>0.2240</td>\n",
              "      <td>0</td>\n",
              "      <td>0cS0A1fUEUd1EW3FcF8AEI</td>\n",
              "      <td>0.000522</td>\n",
              "      <td>5</td>\n",
              "      <td>0.379</td>\n",
              "      <td>-12.628</td>\n",
              "      <td>0</td>\n",
              "      <td>Keep A Song In Your Soul</td>\n",
              "      <td>12</td>\n",
              "      <td>1920</td>\n",
              "      <td>0.0936</td>\n",
              "      <td>149.976</td>\n",
              "      <td>0.634</td>\n",
              "      <td>1920</td>\n",
              "      <td>0.983</td>\n",
              "      <td>0.62725</td>\n",
              "      <td>177981.75</td>\n",
              "      <td>0.184556</td>\n",
              "      <td>0.000288</td>\n",
              "      <td>0.372625</td>\n",
              "      <td>-12.800313</td>\n",
              "      <td>0.121438</td>\n",
              "      <td>113.009938</td>\n",
              "      <td>0.641062</td>\n",
              "      <td>3.1875</td>\n",
              "      <td>0</td>\n",
              "      <td>1</td>\n",
              "      <td>16</td>\n",
              "    </tr>\n",
              "    <tr>\n",
              "      <th>['harlem renaissance', 'traditional blues']</th>\n",
              "      <td>0.993</td>\n",
              "      <td>Mamie Smith</td>\n",
              "      <td>0.647</td>\n",
              "      <td>163827</td>\n",
              "      <td>0.1860</td>\n",
              "      <td>0</td>\n",
              "      <td>11m7laMUgmOKqI3oYzuhne</td>\n",
              "      <td>0.000018</td>\n",
              "      <td>0</td>\n",
              "      <td>0.519</td>\n",
              "      <td>-12.098</td>\n",
              "      <td>1</td>\n",
              "      <td>Golfing Papa</td>\n",
              "      <td>4</td>\n",
              "      <td>1920</td>\n",
              "      <td>0.1740</td>\n",
              "      <td>97.600</td>\n",
              "      <td>0.689</td>\n",
              "      <td>1920</td>\n",
              "      <td>0.983</td>\n",
              "      <td>0.62725</td>\n",
              "      <td>177981.75</td>\n",
              "      <td>0.184556</td>\n",
              "      <td>0.000288</td>\n",
              "      <td>0.372625</td>\n",
              "      <td>-12.800313</td>\n",
              "      <td>0.121438</td>\n",
              "      <td>113.009938</td>\n",
              "      <td>0.641062</td>\n",
              "      <td>3.1875</td>\n",
              "      <td>0</td>\n",
              "      <td>1</td>\n",
              "      <td>16</td>\n",
              "    </tr>\n",
              "    <tr>\n",
              "      <th>['harlem renaissance', 'traditional blues']</th>\n",
              "      <td>0.992</td>\n",
              "      <td>Mamie Smith</td>\n",
              "      <td>0.782</td>\n",
              "      <td>195200</td>\n",
              "      <td>0.0573</td>\n",
              "      <td>0</td>\n",
              "      <td>5DlCyqLyX2AOVDTjjkDZ8x</td>\n",
              "      <td>0.000002</td>\n",
              "      <td>5</td>\n",
              "      <td>0.176</td>\n",
              "      <td>-12.453</td>\n",
              "      <td>1</td>\n",
              "      <td>Don't You Advertise Your Man</td>\n",
              "      <td>5</td>\n",
              "      <td>1920</td>\n",
              "      <td>0.0592</td>\n",
              "      <td>85.652</td>\n",
              "      <td>0.487</td>\n",
              "      <td>1920</td>\n",
              "      <td>0.983</td>\n",
              "      <td>0.62725</td>\n",
              "      <td>177981.75</td>\n",
              "      <td>0.184556</td>\n",
              "      <td>0.000288</td>\n",
              "      <td>0.372625</td>\n",
              "      <td>-12.800313</td>\n",
              "      <td>0.121438</td>\n",
              "      <td>113.009938</td>\n",
              "      <td>0.641062</td>\n",
              "      <td>3.1875</td>\n",
              "      <td>0</td>\n",
              "      <td>1</td>\n",
              "      <td>16</td>\n",
              "    </tr>\n",
              "    <tr>\n",
              "      <th>['harlem renaissance', 'traditional blues']</th>\n",
              "      <td>0.995</td>\n",
              "      <td>Mamie Smith</td>\n",
              "      <td>0.482</td>\n",
              "      <td>198000</td>\n",
              "      <td>0.2290</td>\n",
              "      <td>0</td>\n",
              "      <td>0lqEx4vktZP1y9hnwfF27Y</td>\n",
              "      <td>0.000061</td>\n",
              "      <td>7</td>\n",
              "      <td>0.549</td>\n",
              "      <td>-12.619</td>\n",
              "      <td>1</td>\n",
              "      <td>Kansas City Man Blues - 78rpm Version</td>\n",
              "      <td>4</td>\n",
              "      <td>1920</td>\n",
              "      <td>0.0812</td>\n",
              "      <td>77.232</td>\n",
              "      <td>0.461</td>\n",
              "      <td>1920</td>\n",
              "      <td>0.983</td>\n",
              "      <td>0.62725</td>\n",
              "      <td>177981.75</td>\n",
              "      <td>0.184556</td>\n",
              "      <td>0.000288</td>\n",
              "      <td>0.372625</td>\n",
              "      <td>-12.800313</td>\n",
              "      <td>0.121438</td>\n",
              "      <td>113.009938</td>\n",
              "      <td>0.641062</td>\n",
              "      <td>3.1875</td>\n",
              "      <td>0</td>\n",
              "      <td>1</td>\n",
              "      <td>16</td>\n",
              "    </tr>\n",
              "    <tr>\n",
              "      <th>['harlem renaissance', 'traditional blues']</th>\n",
              "      <td>0.992</td>\n",
              "      <td>Mamie Smith</td>\n",
              "      <td>0.574</td>\n",
              "      <td>189800</td>\n",
              "      <td>0.1380</td>\n",
              "      <td>0</td>\n",
              "      <td>4HYmmG8uHL2hP4zSFWavKF</td>\n",
              "      <td>0.000492</td>\n",
              "      <td>3</td>\n",
              "      <td>0.233</td>\n",
              "      <td>-14.171</td>\n",
              "      <td>1</td>\n",
              "      <td>Miss Jenny's Ball (aka There'll Be No Freebies...</td>\n",
              "      <td>1</td>\n",
              "      <td>1920</td>\n",
              "      <td>0.1090</td>\n",
              "      <td>158.422</td>\n",
              "      <td>0.764</td>\n",
              "      <td>1920</td>\n",
              "      <td>0.983</td>\n",
              "      <td>0.62725</td>\n",
              "      <td>177981.75</td>\n",
              "      <td>0.184556</td>\n",
              "      <td>0.000288</td>\n",
              "      <td>0.372625</td>\n",
              "      <td>-12.800313</td>\n",
              "      <td>0.121438</td>\n",
              "      <td>113.009938</td>\n",
              "      <td>0.641062</td>\n",
              "      <td>3.1875</td>\n",
              "      <td>0</td>\n",
              "      <td>1</td>\n",
              "      <td>16</td>\n",
              "    </tr>\n",
              "  </tbody>\n",
              "</table>\n",
              "</div>"
            ],
            "text/plain": [
              "                                             acousticness_x  ... count\n",
              "genres                                                       ...      \n",
              "['harlem renaissance', 'traditional blues']           0.991  ...    16\n",
              "['harlem renaissance', 'traditional blues']           0.993  ...    16\n",
              "['harlem renaissance', 'traditional blues']           0.992  ...    16\n",
              "['harlem renaissance', 'traditional blues']           0.995  ...    16\n",
              "['harlem renaissance', 'traditional blues']           0.992  ...    16\n",
              "\n",
              "[5 rows x 33 columns]"
            ]
          },
          "metadata": {
            "tags": []
          },
          "execution_count": 17
        }
      ]
    },
    {
      "cell_type": "markdown",
      "metadata": {
        "id": "zzZT8rCVaTrt"
      },
      "source": [
        "After merging the dataframes, the artists belonging to a genre can be found. Let's take pop and rock genres as examples."
      ]
    },
    {
      "cell_type": "code",
      "metadata": {
        "colab": {
          "base_uri": "https://localhost:8080/",
          "height": 374
        },
        "id": "snGy0LkrX9RG",
        "outputId": "1c948514-f287-49de-c829-5df2ac7f30f2"
      },
      "source": [
        "popdf = merged.loc[\"[\\'pop\\']\"]\n",
        "popdf.head()\n",
        "\n"
      ],
      "execution_count": null,
      "outputs": [
        {
          "output_type": "execute_result",
          "data": {
            "text/html": [
              "<div>\n",
              "<style scoped>\n",
              "    .dataframe tbody tr th:only-of-type {\n",
              "        vertical-align: middle;\n",
              "    }\n",
              "\n",
              "    .dataframe tbody tr th {\n",
              "        vertical-align: top;\n",
              "    }\n",
              "\n",
              "    .dataframe thead th {\n",
              "        text-align: right;\n",
              "    }\n",
              "</style>\n",
              "<table border=\"1\" class=\"dataframe\">\n",
              "  <thead>\n",
              "    <tr style=\"text-align: right;\">\n",
              "      <th></th>\n",
              "      <th>acousticness_x</th>\n",
              "      <th>artists</th>\n",
              "      <th>danceability_x</th>\n",
              "      <th>duration_ms_x</th>\n",
              "      <th>energy_x</th>\n",
              "      <th>explicit</th>\n",
              "      <th>id</th>\n",
              "      <th>instrumentalness_x</th>\n",
              "      <th>key_x</th>\n",
              "      <th>liveness_x</th>\n",
              "      <th>loudness_x</th>\n",
              "      <th>mode_x</th>\n",
              "      <th>name</th>\n",
              "      <th>popularity_x</th>\n",
              "      <th>release_date</th>\n",
              "      <th>speechiness_x</th>\n",
              "      <th>tempo_x</th>\n",
              "      <th>valence_x</th>\n",
              "      <th>year</th>\n",
              "      <th>acousticness_y</th>\n",
              "      <th>danceability_y</th>\n",
              "      <th>duration_ms_y</th>\n",
              "      <th>energy_y</th>\n",
              "      <th>instrumentalness_y</th>\n",
              "      <th>liveness_y</th>\n",
              "      <th>loudness_y</th>\n",
              "      <th>speechiness_y</th>\n",
              "      <th>tempo_y</th>\n",
              "      <th>valence_y</th>\n",
              "      <th>popularity_y</th>\n",
              "      <th>key_y</th>\n",
              "      <th>mode_y</th>\n",
              "      <th>count</th>\n",
              "    </tr>\n",
              "    <tr>\n",
              "      <th>genres</th>\n",
              "      <th></th>\n",
              "      <th></th>\n",
              "      <th></th>\n",
              "      <th></th>\n",
              "      <th></th>\n",
              "      <th></th>\n",
              "      <th></th>\n",
              "      <th></th>\n",
              "      <th></th>\n",
              "      <th></th>\n",
              "      <th></th>\n",
              "      <th></th>\n",
              "      <th></th>\n",
              "      <th></th>\n",
              "      <th></th>\n",
              "      <th></th>\n",
              "      <th></th>\n",
              "      <th></th>\n",
              "      <th></th>\n",
              "      <th></th>\n",
              "      <th></th>\n",
              "      <th></th>\n",
              "      <th></th>\n",
              "      <th></th>\n",
              "      <th></th>\n",
              "      <th></th>\n",
              "      <th></th>\n",
              "      <th></th>\n",
              "      <th></th>\n",
              "      <th></th>\n",
              "      <th></th>\n",
              "      <th></th>\n",
              "      <th></th>\n",
              "    </tr>\n",
              "  </thead>\n",
              "  <tbody>\n",
              "    <tr>\n",
              "      <th>['pop']</th>\n",
              "      <td>0.0151</td>\n",
              "      <td>Bruno Mars</td>\n",
              "      <td>0.637</td>\n",
              "      <td>220733</td>\n",
              "      <td>0.843</td>\n",
              "      <td>0</td>\n",
              "      <td>7BqBn9nzAq8spo5e7cZ0dJ</td>\n",
              "      <td>0.0</td>\n",
              "      <td>5</td>\n",
              "      <td>0.0876</td>\n",
              "      <td>-5.413</td>\n",
              "      <td>1</td>\n",
              "      <td>Just the Way You Are</td>\n",
              "      <td>80</td>\n",
              "      <td>2010-10-05</td>\n",
              "      <td>0.0432</td>\n",
              "      <td>109.012</td>\n",
              "      <td>0.434</td>\n",
              "      <td>2010</td>\n",
              "      <td>0.248747</td>\n",
              "      <td>0.67319</td>\n",
              "      <td>222818.416667</td>\n",
              "      <td>0.654833</td>\n",
              "      <td>0.000011</td>\n",
              "      <td>0.133858</td>\n",
              "      <td>-5.87244</td>\n",
              "      <td>0.079005</td>\n",
              "      <td>116.988238</td>\n",
              "      <td>0.607345</td>\n",
              "      <td>66.595238</td>\n",
              "      <td>0</td>\n",
              "      <td>1</td>\n",
              "      <td>84</td>\n",
              "    </tr>\n",
              "    <tr>\n",
              "      <th>['pop']</th>\n",
              "      <td>0.5120</td>\n",
              "      <td>Bruno Mars</td>\n",
              "      <td>0.523</td>\n",
              "      <td>217867</td>\n",
              "      <td>0.606</td>\n",
              "      <td>0</td>\n",
              "      <td>161DnLWsx1i3u1JT05lzqU</td>\n",
              "      <td>0.0</td>\n",
              "      <td>1</td>\n",
              "      <td>0.1060</td>\n",
              "      <td>-4.754</td>\n",
              "      <td>0</td>\n",
              "      <td>Talking to the Moon</td>\n",
              "      <td>77</td>\n",
              "      <td>2010-10-05</td>\n",
              "      <td>0.0301</td>\n",
              "      <td>145.837</td>\n",
              "      <td>0.065</td>\n",
              "      <td>2010</td>\n",
              "      <td>0.248747</td>\n",
              "      <td>0.67319</td>\n",
              "      <td>222818.416667</td>\n",
              "      <td>0.654833</td>\n",
              "      <td>0.000011</td>\n",
              "      <td>0.133858</td>\n",
              "      <td>-5.87244</td>\n",
              "      <td>0.079005</td>\n",
              "      <td>116.988238</td>\n",
              "      <td>0.607345</td>\n",
              "      <td>66.595238</td>\n",
              "      <td>0</td>\n",
              "      <td>1</td>\n",
              "      <td>84</td>\n",
              "    </tr>\n",
              "    <tr>\n",
              "      <th>['pop']</th>\n",
              "      <td>0.1460</td>\n",
              "      <td>Bruno Mars</td>\n",
              "      <td>0.706</td>\n",
              "      <td>223253</td>\n",
              "      <td>0.558</td>\n",
              "      <td>0</td>\n",
              "      <td>2tJulUYLDKOg9XrtVkMgcJ</td>\n",
              "      <td>0.0</td>\n",
              "      <td>2</td>\n",
              "      <td>0.1180</td>\n",
              "      <td>-7.237</td>\n",
              "      <td>0</td>\n",
              "      <td>Grenade</td>\n",
              "      <td>75</td>\n",
              "      <td>2010-10-05</td>\n",
              "      <td>0.0593</td>\n",
              "      <td>110.443</td>\n",
              "      <td>0.227</td>\n",
              "      <td>2010</td>\n",
              "      <td>0.248747</td>\n",
              "      <td>0.67319</td>\n",
              "      <td>222818.416667</td>\n",
              "      <td>0.654833</td>\n",
              "      <td>0.000011</td>\n",
              "      <td>0.133858</td>\n",
              "      <td>-5.87244</td>\n",
              "      <td>0.079005</td>\n",
              "      <td>116.988238</td>\n",
              "      <td>0.607345</td>\n",
              "      <td>66.595238</td>\n",
              "      <td>0</td>\n",
              "      <td>1</td>\n",
              "      <td>84</td>\n",
              "    </tr>\n",
              "    <tr>\n",
              "      <th>['pop']</th>\n",
              "      <td>0.3320</td>\n",
              "      <td>Bruno Mars</td>\n",
              "      <td>0.620</td>\n",
              "      <td>230120</td>\n",
              "      <td>0.832</td>\n",
              "      <td>0</td>\n",
              "      <td>22PMfvdz35fFKYnJyMn077</td>\n",
              "      <td>0.0</td>\n",
              "      <td>10</td>\n",
              "      <td>0.1040</td>\n",
              "      <td>-4.848</td>\n",
              "      <td>1</td>\n",
              "      <td>Marry You</td>\n",
              "      <td>72</td>\n",
              "      <td>2010-10-05</td>\n",
              "      <td>0.0360</td>\n",
              "      <td>144.926</td>\n",
              "      <td>0.481</td>\n",
              "      <td>2010</td>\n",
              "      <td>0.248747</td>\n",
              "      <td>0.67319</td>\n",
              "      <td>222818.416667</td>\n",
              "      <td>0.654833</td>\n",
              "      <td>0.000011</td>\n",
              "      <td>0.133858</td>\n",
              "      <td>-5.87244</td>\n",
              "      <td>0.079005</td>\n",
              "      <td>116.988238</td>\n",
              "      <td>0.607345</td>\n",
              "      <td>66.595238</td>\n",
              "      <td>0</td>\n",
              "      <td>1</td>\n",
              "      <td>84</td>\n",
              "    </tr>\n",
              "    <tr>\n",
              "      <th>['pop']</th>\n",
              "      <td>0.8400</td>\n",
              "      <td>Bruno Mars</td>\n",
              "      <td>0.577</td>\n",
              "      <td>197373</td>\n",
              "      <td>0.397</td>\n",
              "      <td>0</td>\n",
              "      <td>7l1qvxWjxcKpB9PCtBuTbU</td>\n",
              "      <td>0.0</td>\n",
              "      <td>0</td>\n",
              "      <td>0.0772</td>\n",
              "      <td>-5.980</td>\n",
              "      <td>1</td>\n",
              "      <td>Count on Me</td>\n",
              "      <td>73</td>\n",
              "      <td>2010-10-05</td>\n",
              "      <td>0.0280</td>\n",
              "      <td>89.044</td>\n",
              "      <td>0.509</td>\n",
              "      <td>2010</td>\n",
              "      <td>0.248747</td>\n",
              "      <td>0.67319</td>\n",
              "      <td>222818.416667</td>\n",
              "      <td>0.654833</td>\n",
              "      <td>0.000011</td>\n",
              "      <td>0.133858</td>\n",
              "      <td>-5.87244</td>\n",
              "      <td>0.079005</td>\n",
              "      <td>116.988238</td>\n",
              "      <td>0.607345</td>\n",
              "      <td>66.595238</td>\n",
              "      <td>0</td>\n",
              "      <td>1</td>\n",
              "      <td>84</td>\n",
              "    </tr>\n",
              "  </tbody>\n",
              "</table>\n",
              "</div>"
            ],
            "text/plain": [
              "         acousticness_x     artists  danceability_x  ...  key_y  mode_y  count\n",
              "genres                                               ...                      \n",
              "['pop']          0.0151  Bruno Mars           0.637  ...      0       1     84\n",
              "['pop']          0.5120  Bruno Mars           0.523  ...      0       1     84\n",
              "['pop']          0.1460  Bruno Mars           0.706  ...      0       1     84\n",
              "['pop']          0.3320  Bruno Mars           0.620  ...      0       1     84\n",
              "['pop']          0.8400  Bruno Mars           0.577  ...      0       1     84\n",
              "\n",
              "[5 rows x 33 columns]"
            ]
          },
          "metadata": {
            "tags": []
          },
          "execution_count": 18
        }
      ]
    },
    {
      "cell_type": "code",
      "metadata": {
        "colab": {
          "base_uri": "https://localhost:8080/",
          "height": 442
        },
        "id": "0HQiaF-ybPm0",
        "outputId": "0f5ff5b1-0e24-4c69-f185-c88615b02d97"
      },
      "source": [
        "rockdf = merged.loc[\"[\\'rock\\']\"]\n",
        "rockdf.head()"
      ],
      "execution_count": null,
      "outputs": [
        {
          "output_type": "execute_result",
          "data": {
            "text/html": [
              "<div>\n",
              "<style scoped>\n",
              "    .dataframe tbody tr th:only-of-type {\n",
              "        vertical-align: middle;\n",
              "    }\n",
              "\n",
              "    .dataframe tbody tr th {\n",
              "        vertical-align: top;\n",
              "    }\n",
              "\n",
              "    .dataframe thead th {\n",
              "        text-align: right;\n",
              "    }\n",
              "</style>\n",
              "<table border=\"1\" class=\"dataframe\">\n",
              "  <thead>\n",
              "    <tr style=\"text-align: right;\">\n",
              "      <th></th>\n",
              "      <th>acousticness_x</th>\n",
              "      <th>artists</th>\n",
              "      <th>danceability_x</th>\n",
              "      <th>duration_ms_x</th>\n",
              "      <th>energy_x</th>\n",
              "      <th>explicit</th>\n",
              "      <th>id</th>\n",
              "      <th>instrumentalness_x</th>\n",
              "      <th>key_x</th>\n",
              "      <th>liveness_x</th>\n",
              "      <th>loudness_x</th>\n",
              "      <th>mode_x</th>\n",
              "      <th>name</th>\n",
              "      <th>popularity_x</th>\n",
              "      <th>release_date</th>\n",
              "      <th>speechiness_x</th>\n",
              "      <th>tempo_x</th>\n",
              "      <th>valence_x</th>\n",
              "      <th>year</th>\n",
              "      <th>acousticness_y</th>\n",
              "      <th>danceability_y</th>\n",
              "      <th>duration_ms_y</th>\n",
              "      <th>energy_y</th>\n",
              "      <th>instrumentalness_y</th>\n",
              "      <th>liveness_y</th>\n",
              "      <th>loudness_y</th>\n",
              "      <th>speechiness_y</th>\n",
              "      <th>tempo_y</th>\n",
              "      <th>valence_y</th>\n",
              "      <th>popularity_y</th>\n",
              "      <th>key_y</th>\n",
              "      <th>mode_y</th>\n",
              "      <th>count</th>\n",
              "    </tr>\n",
              "    <tr>\n",
              "      <th>genres</th>\n",
              "      <th></th>\n",
              "      <th></th>\n",
              "      <th></th>\n",
              "      <th></th>\n",
              "      <th></th>\n",
              "      <th></th>\n",
              "      <th></th>\n",
              "      <th></th>\n",
              "      <th></th>\n",
              "      <th></th>\n",
              "      <th></th>\n",
              "      <th></th>\n",
              "      <th></th>\n",
              "      <th></th>\n",
              "      <th></th>\n",
              "      <th></th>\n",
              "      <th></th>\n",
              "      <th></th>\n",
              "      <th></th>\n",
              "      <th></th>\n",
              "      <th></th>\n",
              "      <th></th>\n",
              "      <th></th>\n",
              "      <th></th>\n",
              "      <th></th>\n",
              "      <th></th>\n",
              "      <th></th>\n",
              "      <th></th>\n",
              "      <th></th>\n",
              "      <th></th>\n",
              "      <th></th>\n",
              "      <th></th>\n",
              "      <th></th>\n",
              "    </tr>\n",
              "  </thead>\n",
              "  <tbody>\n",
              "    <tr>\n",
              "      <th>['rock']</th>\n",
              "      <td>0.0564</td>\n",
              "      <td>Jon Bon Jovi</td>\n",
              "      <td>0.550</td>\n",
              "      <td>335240</td>\n",
              "      <td>0.618</td>\n",
              "      <td>0</td>\n",
              "      <td>1sUTfgduT0WIQO8kXKXxLC</td>\n",
              "      <td>0.000026</td>\n",
              "      <td>7</td>\n",
              "      <td>0.0937</td>\n",
              "      <td>-9.822</td>\n",
              "      <td>1</td>\n",
              "      <td>Blaze Of Glory - From \"Young Guns II\" Soundtrack</td>\n",
              "      <td>65</td>\n",
              "      <td>1990-01-01</td>\n",
              "      <td>0.0307</td>\n",
              "      <td>78.610</td>\n",
              "      <td>0.429</td>\n",
              "      <td>1990</td>\n",
              "      <td>0.202775</td>\n",
              "      <td>0.541375</td>\n",
              "      <td>279171.5</td>\n",
              "      <td>0.593125</td>\n",
              "      <td>0.000008</td>\n",
              "      <td>0.1571</td>\n",
              "      <td>-9.639125</td>\n",
              "      <td>0.031175</td>\n",
              "      <td>111.52175</td>\n",
              "      <td>0.46675</td>\n",
              "      <td>50.5</td>\n",
              "      <td>3</td>\n",
              "      <td>1</td>\n",
              "      <td>16</td>\n",
              "    </tr>\n",
              "    <tr>\n",
              "      <th>['rock']</th>\n",
              "      <td>0.2690</td>\n",
              "      <td>Jon Bon Jovi</td>\n",
              "      <td>0.430</td>\n",
              "      <td>172933</td>\n",
              "      <td>0.501</td>\n",
              "      <td>0</td>\n",
              "      <td>5tbSC9aFC7fzlI3BMEs2Wr</td>\n",
              "      <td>0.000000</td>\n",
              "      <td>9</td>\n",
              "      <td>0.2180</td>\n",
              "      <td>-9.398</td>\n",
              "      <td>1</td>\n",
              "      <td>Please Come Home For Christmas</td>\n",
              "      <td>56</td>\n",
              "      <td>1992-10-20</td>\n",
              "      <td>0.0277</td>\n",
              "      <td>178.351</td>\n",
              "      <td>0.342</td>\n",
              "      <td>1992</td>\n",
              "      <td>0.202775</td>\n",
              "      <td>0.541375</td>\n",
              "      <td>279171.5</td>\n",
              "      <td>0.593125</td>\n",
              "      <td>0.000008</td>\n",
              "      <td>0.1571</td>\n",
              "      <td>-9.639125</td>\n",
              "      <td>0.031175</td>\n",
              "      <td>111.52175</td>\n",
              "      <td>0.46675</td>\n",
              "      <td>50.5</td>\n",
              "      <td>3</td>\n",
              "      <td>1</td>\n",
              "      <td>16</td>\n",
              "    </tr>\n",
              "    <tr>\n",
              "      <th>['rock']</th>\n",
              "      <td>0.3670</td>\n",
              "      <td>Jon Bon Jovi</td>\n",
              "      <td>0.577</td>\n",
              "      <td>319427</td>\n",
              "      <td>0.677</td>\n",
              "      <td>0</td>\n",
              "      <td>6FJ9Xp3fCxSTAdcRVaDQdl</td>\n",
              "      <td>0.000000</td>\n",
              "      <td>3</td>\n",
              "      <td>0.4930</td>\n",
              "      <td>-10.327</td>\n",
              "      <td>1</td>\n",
              "      <td>Miracle</td>\n",
              "      <td>54</td>\n",
              "      <td>1990-01-01</td>\n",
              "      <td>0.0245</td>\n",
              "      <td>92.007</td>\n",
              "      <td>0.683</td>\n",
              "      <td>1990</td>\n",
              "      <td>0.202775</td>\n",
              "      <td>0.541375</td>\n",
              "      <td>279171.5</td>\n",
              "      <td>0.593125</td>\n",
              "      <td>0.000008</td>\n",
              "      <td>0.1571</td>\n",
              "      <td>-9.639125</td>\n",
              "      <td>0.031175</td>\n",
              "      <td>111.52175</td>\n",
              "      <td>0.46675</td>\n",
              "      <td>50.5</td>\n",
              "      <td>3</td>\n",
              "      <td>1</td>\n",
              "      <td>16</td>\n",
              "    </tr>\n",
              "    <tr>\n",
              "      <th>['rock']</th>\n",
              "      <td>0.1260</td>\n",
              "      <td>Jon Bon Jovi</td>\n",
              "      <td>0.518</td>\n",
              "      <td>341667</td>\n",
              "      <td>0.507</td>\n",
              "      <td>0</td>\n",
              "      <td>1wmaAfrbe1JLiyt7SpZeQU</td>\n",
              "      <td>0.000000</td>\n",
              "      <td>3</td>\n",
              "      <td>0.0457</td>\n",
              "      <td>-9.693</td>\n",
              "      <td>0</td>\n",
              "      <td>Santa Fe</td>\n",
              "      <td>53</td>\n",
              "      <td>1990-01-01</td>\n",
              "      <td>0.0295</td>\n",
              "      <td>140.106</td>\n",
              "      <td>0.299</td>\n",
              "      <td>1990</td>\n",
              "      <td>0.202775</td>\n",
              "      <td>0.541375</td>\n",
              "      <td>279171.5</td>\n",
              "      <td>0.593125</td>\n",
              "      <td>0.000008</td>\n",
              "      <td>0.1571</td>\n",
              "      <td>-9.639125</td>\n",
              "      <td>0.031175</td>\n",
              "      <td>111.52175</td>\n",
              "      <td>0.46675</td>\n",
              "      <td>50.5</td>\n",
              "      <td>3</td>\n",
              "      <td>1</td>\n",
              "      <td>16</td>\n",
              "    </tr>\n",
              "    <tr>\n",
              "      <th>['rock']</th>\n",
              "      <td>0.0211</td>\n",
              "      <td>Jon Bon Jovi</td>\n",
              "      <td>0.541</td>\n",
              "      <td>340000</td>\n",
              "      <td>0.704</td>\n",
              "      <td>0</td>\n",
              "      <td>0XwjdpwvEwukcg3XU4Ibzt</td>\n",
              "      <td>0.000042</td>\n",
              "      <td>7</td>\n",
              "      <td>0.1430</td>\n",
              "      <td>-6.167</td>\n",
              "      <td>1</td>\n",
              "      <td>Blaze Of Glory</td>\n",
              "      <td>51</td>\n",
              "      <td>1994-10-18</td>\n",
              "      <td>0.0324</td>\n",
              "      <td>78.797</td>\n",
              "      <td>0.416</td>\n",
              "      <td>1994</td>\n",
              "      <td>0.202775</td>\n",
              "      <td>0.541375</td>\n",
              "      <td>279171.5</td>\n",
              "      <td>0.593125</td>\n",
              "      <td>0.000008</td>\n",
              "      <td>0.1571</td>\n",
              "      <td>-9.639125</td>\n",
              "      <td>0.031175</td>\n",
              "      <td>111.52175</td>\n",
              "      <td>0.46675</td>\n",
              "      <td>50.5</td>\n",
              "      <td>3</td>\n",
              "      <td>1</td>\n",
              "      <td>16</td>\n",
              "    </tr>\n",
              "  </tbody>\n",
              "</table>\n",
              "</div>"
            ],
            "text/plain": [
              "          acousticness_x       artists  danceability_x  ...  key_y  mode_y  count\n",
              "genres                                                  ...                      \n",
              "['rock']          0.0564  Jon Bon Jovi           0.550  ...      3       1     16\n",
              "['rock']          0.2690  Jon Bon Jovi           0.430  ...      3       1     16\n",
              "['rock']          0.3670  Jon Bon Jovi           0.577  ...      3       1     16\n",
              "['rock']          0.1260  Jon Bon Jovi           0.518  ...      3       1     16\n",
              "['rock']          0.0211  Jon Bon Jovi           0.541  ...      3       1     16\n",
              "\n",
              "[5 rows x 33 columns]"
            ]
          },
          "metadata": {
            "tags": []
          },
          "execution_count": 19
        }
      ]
    },
    {
      "cell_type": "markdown",
      "metadata": {
        "id": "hzs1rQ3na6a7"
      },
      "source": [
        "It may be surprising that only one artist has appeared for both genres, but this is due to the fact that many of the artists in the dataframe are shown with multiple genres.\n",
        "\n",
        "Now, let's check the danceability of songs of the artists on the same graph."
      ]
    },
    {
      "cell_type": "code",
      "metadata": {
        "colab": {
          "base_uri": "https://localhost:8080/",
          "height": 283
        },
        "id": "ByYAT9eHzRut",
        "outputId": "84e33f30-35ff-4589-a662-2596cfc0f320"
      },
      "source": [
        "ax = popdf[\"danceability_x\"].plot(style='.')\n",
        "x = []\n",
        "plt.xticks(x)\n",
        "ax.set_xlabel('songs')\n",
        "ax.set_ylabel('danceability')\n",
        "\n",
        "ax2 = rockdf[\"danceability_x\"].plot(style='.')\n",
        "y = []\n",
        "plt.xticks(y)\n",
        "ax2.set_xlabel('songs')\n",
        "ax2.set_ylabel('danceability')"
      ],
      "execution_count": null,
      "outputs": [
        {
          "output_type": "execute_result",
          "data": {
            "text/plain": [
              "Text(0, 0.5, 'danceability')"
            ]
          },
          "metadata": {
            "tags": []
          },
          "execution_count": 25
        },
        {
          "output_type": "display_data",
          "data": {
            "image/png": "[encoded data removed]",
            "text/plain": [
              "<Figure size 432x288 with 1 Axes>"
            ]
          },
          "metadata": {
            "tags": []
          }
        }
      ]
    },
    {
      "cell_type": "markdown",
      "metadata": {
        "id": "c__CDW1GUrLa"
      },
      "source": [
        "Blue dots represents pop songs and orange dots represents rock songs. It may be said that pop songs have more danceability than rock songs."
      ]
    },
    {
      "cell_type": "markdown",
      "metadata": {
        "id": "qpqfFOnSP2HT"
      },
      "source": [
        "##Analysis of the Most Popular Artists and Songs"
      ]
    },
    {
      "cell_type": "code",
      "metadata": {
        "colab": {
          "base_uri": "https://localhost:8080/",
          "height": 476
        },
        "id": "f7eS384_QHyR",
        "outputId": "42161971-873d-426d-c8bf-812f95154a9b"
      },
      "source": [
        "merged = merged.sort_values(by=['popularity_x'],ascending=False)\n",
        "merged.head()"
      ],
      "execution_count": null,
      "outputs": [
        {
          "output_type": "execute_result",
          "data": {
            "text/html": [
              "<div>\n",
              "<style scoped>\n",
              "    .dataframe tbody tr th:only-of-type {\n",
              "        vertical-align: middle;\n",
              "    }\n",
              "\n",
              "    .dataframe tbody tr th {\n",
              "        vertical-align: top;\n",
              "    }\n",
              "\n",
              "    .dataframe thead th {\n",
              "        text-align: right;\n",
              "    }\n",
              "</style>\n",
              "<table border=\"1\" class=\"dataframe\">\n",
              "  <thead>\n",
              "    <tr style=\"text-align: right;\">\n",
              "      <th></th>\n",
              "      <th>acousticness_x</th>\n",
              "      <th>artists</th>\n",
              "      <th>danceability_x</th>\n",
              "      <th>duration_ms_x</th>\n",
              "      <th>energy_x</th>\n",
              "      <th>explicit</th>\n",
              "      <th>id</th>\n",
              "      <th>instrumentalness_x</th>\n",
              "      <th>key_x</th>\n",
              "      <th>liveness_x</th>\n",
              "      <th>loudness_x</th>\n",
              "      <th>mode_x</th>\n",
              "      <th>name</th>\n",
              "      <th>popularity_x</th>\n",
              "      <th>release_date</th>\n",
              "      <th>speechiness_x</th>\n",
              "      <th>tempo_x</th>\n",
              "      <th>valence_x</th>\n",
              "      <th>year</th>\n",
              "      <th>acousticness_y</th>\n",
              "      <th>danceability_y</th>\n",
              "      <th>duration_ms_y</th>\n",
              "      <th>energy_y</th>\n",
              "      <th>instrumentalness_y</th>\n",
              "      <th>liveness_y</th>\n",
              "      <th>loudness_y</th>\n",
              "      <th>speechiness_y</th>\n",
              "      <th>tempo_y</th>\n",
              "      <th>valence_y</th>\n",
              "      <th>popularity_y</th>\n",
              "      <th>key_y</th>\n",
              "      <th>mode_y</th>\n",
              "      <th>count</th>\n",
              "    </tr>\n",
              "    <tr>\n",
              "      <th>genres</th>\n",
              "      <th></th>\n",
              "      <th></th>\n",
              "      <th></th>\n",
              "      <th></th>\n",
              "      <th></th>\n",
              "      <th></th>\n",
              "      <th></th>\n",
              "      <th></th>\n",
              "      <th></th>\n",
              "      <th></th>\n",
              "      <th></th>\n",
              "      <th></th>\n",
              "      <th></th>\n",
              "      <th></th>\n",
              "      <th></th>\n",
              "      <th></th>\n",
              "      <th></th>\n",
              "      <th></th>\n",
              "      <th></th>\n",
              "      <th></th>\n",
              "      <th></th>\n",
              "      <th></th>\n",
              "      <th></th>\n",
              "      <th></th>\n",
              "      <th></th>\n",
              "      <th></th>\n",
              "      <th></th>\n",
              "      <th></th>\n",
              "      <th></th>\n",
              "      <th></th>\n",
              "      <th></th>\n",
              "      <th></th>\n",
              "      <th></th>\n",
              "    </tr>\n",
              "  </thead>\n",
              "  <tbody>\n",
              "    <tr>\n",
              "      <th>['pop', 'post-teen pop']</th>\n",
              "      <td>0.721</td>\n",
              "      <td>Olivia Rodrigo</td>\n",
              "      <td>0.585</td>\n",
              "      <td>12.396751</td>\n",
              "      <td>0.436</td>\n",
              "      <td>1</td>\n",
              "      <td>7lPN2DXiMsVn7XUKtOW1CS</td>\n",
              "      <td>0.000013</td>\n",
              "      <td>10</td>\n",
              "      <td>0.1050</td>\n",
              "      <td>-8.761</td>\n",
              "      <td>1</td>\n",
              "      <td>drivers license</td>\n",
              "      <td>100</td>\n",
              "      <td>2021-01-08</td>\n",
              "      <td>0.0601</td>\n",
              "      <td>143.874</td>\n",
              "      <td>0.132</td>\n",
              "      <td>2021</td>\n",
              "      <td>0.353225</td>\n",
              "      <td>0.457750</td>\n",
              "      <td>202002.750000</td>\n",
              "      <td>0.442375</td>\n",
              "      <td>3.275000e-06</td>\n",
              "      <td>0.102000</td>\n",
              "      <td>-7.145625</td>\n",
              "      <td>0.041900</td>\n",
              "      <td>102.087875</td>\n",
              "      <td>0.170625</td>\n",
              "      <td>82.250000</td>\n",
              "      <td>0</td>\n",
              "      <td>1</td>\n",
              "      <td>8</td>\n",
              "    </tr>\n",
              "    <tr>\n",
              "      <th>['melodic rap', 'pop rap']</th>\n",
              "      <td>0.221</td>\n",
              "      <td>iann dior</td>\n",
              "      <td>0.700</td>\n",
              "      <td>11.853148</td>\n",
              "      <td>0.722</td>\n",
              "      <td>1</td>\n",
              "      <td>3tjFYV6RSFtuktYl3ZtYcq</td>\n",
              "      <td>0.000000</td>\n",
              "      <td>7</td>\n",
              "      <td>0.2720</td>\n",
              "      <td>-3.558</td>\n",
              "      <td>0</td>\n",
              "      <td>Mood (feat. iann dior)</td>\n",
              "      <td>96</td>\n",
              "      <td>2020-07-24</td>\n",
              "      <td>0.0369</td>\n",
              "      <td>90.989</td>\n",
              "      <td>0.756</td>\n",
              "      <td>2020</td>\n",
              "      <td>0.157826</td>\n",
              "      <td>0.712682</td>\n",
              "      <td>153083.863636</td>\n",
              "      <td>0.620455</td>\n",
              "      <td>4.409091e-07</td>\n",
              "      <td>0.176645</td>\n",
              "      <td>-5.777545</td>\n",
              "      <td>0.052691</td>\n",
              "      <td>104.324909</td>\n",
              "      <td>0.524864</td>\n",
              "      <td>75.545455</td>\n",
              "      <td>7</td>\n",
              "      <td>1</td>\n",
              "      <td>22</td>\n",
              "    </tr>\n",
              "    <tr>\n",
              "      <th>['cali rap']</th>\n",
              "      <td>0.221</td>\n",
              "      <td>24kGoldn</td>\n",
              "      <td>0.700</td>\n",
              "      <td>11.853148</td>\n",
              "      <td>0.722</td>\n",
              "      <td>1</td>\n",
              "      <td>3tjFYV6RSFtuktYl3ZtYcq</td>\n",
              "      <td>0.000000</td>\n",
              "      <td>7</td>\n",
              "      <td>0.2720</td>\n",
              "      <td>-3.558</td>\n",
              "      <td>0</td>\n",
              "      <td>Mood (feat. iann dior)</td>\n",
              "      <td>96</td>\n",
              "      <td>2020-07-24</td>\n",
              "      <td>0.0369</td>\n",
              "      <td>90.989</td>\n",
              "      <td>0.756</td>\n",
              "      <td>2020</td>\n",
              "      <td>0.141665</td>\n",
              "      <td>0.714500</td>\n",
              "      <td>157811.416667</td>\n",
              "      <td>0.684000</td>\n",
              "      <td>2.153333e-06</td>\n",
              "      <td>0.161500</td>\n",
              "      <td>-4.680167</td>\n",
              "      <td>0.094483</td>\n",
              "      <td>129.348833</td>\n",
              "      <td>0.579417</td>\n",
              "      <td>75.666667</td>\n",
              "      <td>9</td>\n",
              "      <td>0</td>\n",
              "      <td>12</td>\n",
              "    </tr>\n",
              "    <tr>\n",
              "      <th>['dance pop', 'pop', 'post-teen pop']</th>\n",
              "      <td>0.468</td>\n",
              "      <td>Ariana Grande</td>\n",
              "      <td>0.737</td>\n",
              "      <td>12.057138</td>\n",
              "      <td>0.802</td>\n",
              "      <td>1</td>\n",
              "      <td>35mvY5S1H3J2QZyna3TFe0</td>\n",
              "      <td>0.000000</td>\n",
              "      <td>0</td>\n",
              "      <td>0.0931</td>\n",
              "      <td>-4.771</td>\n",
              "      <td>1</td>\n",
              "      <td>positions</td>\n",
              "      <td>96</td>\n",
              "      <td>2020-10-30</td>\n",
              "      <td>0.0878</td>\n",
              "      <td>144.015</td>\n",
              "      <td>0.682</td>\n",
              "      <td>2020</td>\n",
              "      <td>0.244536</td>\n",
              "      <td>0.644189</td>\n",
              "      <td>200930.109756</td>\n",
              "      <td>0.593140</td>\n",
              "      <td>7.500510e-04</td>\n",
              "      <td>0.187554</td>\n",
              "      <td>-5.924012</td>\n",
              "      <td>0.090332</td>\n",
              "      <td>118.227683</td>\n",
              "      <td>0.472040</td>\n",
              "      <td>70.420732</td>\n",
              "      <td>0</td>\n",
              "      <td>1</td>\n",
              "      <td>164</td>\n",
              "    </tr>\n",
              "    <tr>\n",
              "      <th>['latin', 'reggaeton', 'trap latino']</th>\n",
              "      <td>0.401</td>\n",
              "      <td>Bad Bunny</td>\n",
              "      <td>0.731</td>\n",
              "      <td>12.231204</td>\n",
              "      <td>0.573</td>\n",
              "      <td>1</td>\n",
              "      <td>47EiUVwUp4C9fGccaPuUCS</td>\n",
              "      <td>0.000052</td>\n",
              "      <td>4</td>\n",
              "      <td>0.1130</td>\n",
              "      <td>-10.059</td>\n",
              "      <td>0</td>\n",
              "      <td>DÁKITI</td>\n",
              "      <td>95</td>\n",
              "      <td>2020-10-30</td>\n",
              "      <td>0.0544</td>\n",
              "      <td>109.928</td>\n",
              "      <td>0.145</td>\n",
              "      <td>2020</td>\n",
              "      <td>0.205138</td>\n",
              "      <td>0.741034</td>\n",
              "      <td>227945.130682</td>\n",
              "      <td>0.666545</td>\n",
              "      <td>1.701343e-04</td>\n",
              "      <td>0.161136</td>\n",
              "      <td>-5.730733</td>\n",
              "      <td>0.117114</td>\n",
              "      <td>121.704807</td>\n",
              "      <td>0.478594</td>\n",
              "      <td>54.511364</td>\n",
              "      <td>10</td>\n",
              "      <td>0</td>\n",
              "      <td>176</td>\n",
              "    </tr>\n",
              "  </tbody>\n",
              "</table>\n",
              "</div>"
            ],
            "text/plain": [
              "                                       acousticness_x  ... count\n",
              "genres                                                 ...      \n",
              "['pop', 'post-teen pop']                        0.721  ...     8\n",
              "['melodic rap', 'pop rap']                      0.221  ...    22\n",
              "['cali rap']                                    0.221  ...    12\n",
              "['dance pop', 'pop', 'post-teen pop']           0.468  ...   164\n",
              "['latin', 'reggaeton', 'trap latino']           0.401  ...   176\n",
              "\n",
              "[5 rows x 33 columns]"
            ]
          },
          "metadata": {
            "tags": []
          },
          "execution_count": 29
        }
      ]
    },
    {
      "cell_type": "markdown",
      "metadata": {
        "id": "I1PdrgrtSNAC"
      },
      "source": [
        "In above, the top 5 songs and artists with the highest popularity and their related datas and genres of this song can be seen."
      ]
    },
    {
      "cell_type": "markdown",
      "metadata": {
        "id": "iTcF5lDvJbok"
      },
      "source": [
        "#PART 2 "
      ]
    },
    {
      "cell_type": "markdown",
      "metadata": {
        "id": "H7lwN_owzBj6"
      },
      "source": [
        "##Statistical Analysis"
      ]
    },
    {
      "cell_type": "markdown",
      "metadata": {
        "id": "RroEAmRUkhtl"
      },
      "source": [
        "###Comparing Popularity of Songs according to Their Energy Values"
      ]
    },
    {
      "cell_type": "code",
      "metadata": {
        "id": "hmDPx7wLYZRX"
      },
      "source": [
        "filename_part2 = \"data.csv\"\n",
        "df_part2 = pd.read_csv(join(path_prefix, filename_part2))\n"
      ],
      "execution_count": null,
      "outputs": []
    },
    {
      "cell_type": "markdown",
      "metadata": {
        "id": "PCcX8GXUxYQh"
      },
      "source": [
        "A sample is taken from the dataframe to do some analysis and hypothesis testing."
      ]
    },
    {
      "cell_type": "code",
      "metadata": {
        "colab": {
          "base_uri": "https://localhost:8080/",
          "height": 496
        },
        "id": "JMpbRp4jxXpC",
        "outputId": "6d82c71d-0b61-41a3-d09e-5740cf985aa8"
      },
      "source": [
        "sample_df = df_part2.sample(n=1000)\n",
        "sample_df.head()"
      ],
      "execution_count": null,
      "outputs": [
        {
          "output_type": "execute_result",
          "data": {
            "text/html": [
              "<div>\n",
              "<style scoped>\n",
              "    .dataframe tbody tr th:only-of-type {\n",
              "        vertical-align: middle;\n",
              "    }\n",
              "\n",
              "    .dataframe tbody tr th {\n",
              "        vertical-align: top;\n",
              "    }\n",
              "\n",
              "    .dataframe thead th {\n",
              "        text-align: right;\n",
              "    }\n",
              "</style>\n",
              "<table border=\"1\" class=\"dataframe\">\n",
              "  <thead>\n",
              "    <tr style=\"text-align: right;\">\n",
              "      <th></th>\n",
              "      <th>acousticness</th>\n",
              "      <th>artists</th>\n",
              "      <th>danceability</th>\n",
              "      <th>duration_ms</th>\n",
              "      <th>energy</th>\n",
              "      <th>explicit</th>\n",
              "      <th>id</th>\n",
              "      <th>instrumentalness</th>\n",
              "      <th>key</th>\n",
              "      <th>liveness</th>\n",
              "      <th>loudness</th>\n",
              "      <th>mode</th>\n",
              "      <th>name</th>\n",
              "      <th>popularity</th>\n",
              "      <th>release_date</th>\n",
              "      <th>speechiness</th>\n",
              "      <th>tempo</th>\n",
              "      <th>valence</th>\n",
              "      <th>year</th>\n",
              "    </tr>\n",
              "  </thead>\n",
              "  <tbody>\n",
              "    <tr>\n",
              "      <th>77138</th>\n",
              "      <td>0.9950</td>\n",
              "      <td>['Muzio Clementi', 'Vladimir Horowitz']</td>\n",
              "      <td>0.410</td>\n",
              "      <td>384600</td>\n",
              "      <td>0.176</td>\n",
              "      <td>0</td>\n",
              "      <td>5U5PZYBeMWyEO8CwzUMxCx</td>\n",
              "      <td>0.8790</td>\n",
              "      <td>7</td>\n",
              "      <td>0.241</td>\n",
              "      <td>-23.061</td>\n",
              "      <td>0</td>\n",
              "      <td>Sonata, Op. 34, No. 2 in G Minor: III. Allegro...</td>\n",
              "      <td>0</td>\n",
              "      <td>1928</td>\n",
              "      <td>0.0581</td>\n",
              "      <td>78.439</td>\n",
              "      <td>0.346</td>\n",
              "      <td>1928</td>\n",
              "    </tr>\n",
              "    <tr>\n",
              "      <th>79298</th>\n",
              "      <td>0.9300</td>\n",
              "      <td>['Lead Belly']</td>\n",
              "      <td>0.553</td>\n",
              "      <td>167288</td>\n",
              "      <td>0.362</td>\n",
              "      <td>0</td>\n",
              "      <td>3OzrnTK3RSRu23yfUNoBcG</td>\n",
              "      <td>0.0452</td>\n",
              "      <td>9</td>\n",
              "      <td>0.178</td>\n",
              "      <td>-14.524</td>\n",
              "      <td>1</td>\n",
              "      <td>Pretty Flowers In Your Backyard</td>\n",
              "      <td>0</td>\n",
              "      <td>1947</td>\n",
              "      <td>0.0616</td>\n",
              "      <td>65.703</td>\n",
              "      <td>0.786</td>\n",
              "      <td>1947</td>\n",
              "    </tr>\n",
              "    <tr>\n",
              "      <th>77516</th>\n",
              "      <td>0.9930</td>\n",
              "      <td>['Rita Ampatzi']</td>\n",
              "      <td>0.297</td>\n",
              "      <td>194787</td>\n",
              "      <td>0.238</td>\n",
              "      <td>0</td>\n",
              "      <td>3VrZ7PBsLvANFIvSRYLE3j</td>\n",
              "      <td>0.8150</td>\n",
              "      <td>6</td>\n",
              "      <td>0.114</td>\n",
              "      <td>-15.367</td>\n",
              "      <td>1</td>\n",
              "      <td>Ela opos eisai</td>\n",
              "      <td>0</td>\n",
              "      <td>1930-01-01</td>\n",
              "      <td>0.0650</td>\n",
              "      <td>171.615</td>\n",
              "      <td>0.728</td>\n",
              "      <td>1930</td>\n",
              "    </tr>\n",
              "    <tr>\n",
              "      <th>107213</th>\n",
              "      <td>0.0405</td>\n",
              "      <td>['Descendents']</td>\n",
              "      <td>0.524</td>\n",
              "      <td>111200</td>\n",
              "      <td>0.990</td>\n",
              "      <td>0</td>\n",
              "      <td>2BY2O9OybmxpND0DqNgx97</td>\n",
              "      <td>0.0000</td>\n",
              "      <td>9</td>\n",
              "      <td>0.226</td>\n",
              "      <td>-4.009</td>\n",
              "      <td>0</td>\n",
              "      <td>'Merican</td>\n",
              "      <td>51</td>\n",
              "      <td>2004-03-23</td>\n",
              "      <td>0.1100</td>\n",
              "      <td>100.653</td>\n",
              "      <td>0.370</td>\n",
              "      <td>2004</td>\n",
              "    </tr>\n",
              "    <tr>\n",
              "      <th>53652</th>\n",
              "      <td>0.4410</td>\n",
              "      <td>['*NSYNC']</td>\n",
              "      <td>0.600</td>\n",
              "      <td>282960</td>\n",
              "      <td>0.544</td>\n",
              "      <td>0</td>\n",
              "      <td>4mljNnZ2eaXKSbEAOzLlLE</td>\n",
              "      <td>0.0000</td>\n",
              "      <td>10</td>\n",
              "      <td>0.255</td>\n",
              "      <td>-8.863</td>\n",
              "      <td>1</td>\n",
              "      <td>(God Must Have Spent) A Little More Time On You</td>\n",
              "      <td>44</td>\n",
              "      <td>1997-05-26</td>\n",
              "      <td>0.0358</td>\n",
              "      <td>83.992</td>\n",
              "      <td>0.320</td>\n",
              "      <td>1997</td>\n",
              "    </tr>\n",
              "  </tbody>\n",
              "</table>\n",
              "</div>"
            ],
            "text/plain": [
              "        acousticness                                  artists  ...  valence  year\n",
              "77138         0.9950  ['Muzio Clementi', 'Vladimir Horowitz']  ...    0.346  1928\n",
              "79298         0.9300                           ['Lead Belly']  ...    0.786  1947\n",
              "77516         0.9930                         ['Rita Ampatzi']  ...    0.728  1930\n",
              "107213        0.0405                          ['Descendents']  ...    0.370  2004\n",
              "53652         0.4410                               ['*NSYNC']  ...    0.320  1997\n",
              "\n",
              "[5 rows x 19 columns]"
            ]
          },
          "metadata": {
            "tags": []
          },
          "execution_count": 193
        }
      ]
    },
    {
      "cell_type": "markdown",
      "metadata": {
        "id": "-8F_rWqvxp0-"
      },
      "source": [
        "To compare energy and popularity values of songs, a new feature (Energy Intervals) is created. Songs are splitted into three categories according to their energy values."
      ]
    },
    {
      "cell_type": "code",
      "metadata": {
        "colab": {
          "base_uri": "https://localhost:8080/",
          "height": 530
        },
        "id": "k4rKalyRxSYa",
        "outputId": "c0deab40-cb1e-402a-fe77-826b1964704e"
      },
      "source": [
        "def categorize_vals(feature_value):\n",
        "  if feature_value < 0.33:\n",
        "    return 'Less than 0.33'\n",
        "  elif 0.33 <= feature_value <= 0.66:\n",
        "    return '0.33 - 0.66'\n",
        "  else:\n",
        "    return 'More than 0.66'\n",
        "\n",
        "sample_df['Energy Intervals'] = sample_df['energy'].astype(float).apply(categorize_vals)\n",
        "sample_df.head()"
      ],
      "execution_count": null,
      "outputs": [
        {
          "output_type": "execute_result",
          "data": {
            "text/html": [
              "<div>\n",
              "<style scoped>\n",
              "    .dataframe tbody tr th:only-of-type {\n",
              "        vertical-align: middle;\n",
              "    }\n",
              "\n",
              "    .dataframe tbody tr th {\n",
              "        vertical-align: top;\n",
              "    }\n",
              "\n",
              "    .dataframe thead th {\n",
              "        text-align: right;\n",
              "    }\n",
              "</style>\n",
              "<table border=\"1\" class=\"dataframe\">\n",
              "  <thead>\n",
              "    <tr style=\"text-align: right;\">\n",
              "      <th></th>\n",
              "      <th>acousticness</th>\n",
              "      <th>artists</th>\n",
              "      <th>danceability</th>\n",
              "      <th>duration_ms</th>\n",
              "      <th>energy</th>\n",
              "      <th>explicit</th>\n",
              "      <th>id</th>\n",
              "      <th>instrumentalness</th>\n",
              "      <th>key</th>\n",
              "      <th>liveness</th>\n",
              "      <th>loudness</th>\n",
              "      <th>mode</th>\n",
              "      <th>name</th>\n",
              "      <th>popularity</th>\n",
              "      <th>release_date</th>\n",
              "      <th>speechiness</th>\n",
              "      <th>tempo</th>\n",
              "      <th>valence</th>\n",
              "      <th>year</th>\n",
              "      <th>Energy Intervals</th>\n",
              "    </tr>\n",
              "  </thead>\n",
              "  <tbody>\n",
              "    <tr>\n",
              "      <th>77138</th>\n",
              "      <td>0.9950</td>\n",
              "      <td>['Muzio Clementi', 'Vladimir Horowitz']</td>\n",
              "      <td>0.410</td>\n",
              "      <td>384600</td>\n",
              "      <td>0.176</td>\n",
              "      <td>0</td>\n",
              "      <td>5U5PZYBeMWyEO8CwzUMxCx</td>\n",
              "      <td>0.8790</td>\n",
              "      <td>7</td>\n",
              "      <td>0.241</td>\n",
              "      <td>-23.061</td>\n",
              "      <td>0</td>\n",
              "      <td>Sonata, Op. 34, No. 2 in G Minor: III. Allegro...</td>\n",
              "      <td>0</td>\n",
              "      <td>1928</td>\n",
              "      <td>0.0581</td>\n",
              "      <td>78.439</td>\n",
              "      <td>0.346</td>\n",
              "      <td>1928</td>\n",
              "      <td>Less than 0.33</td>\n",
              "    </tr>\n",
              "    <tr>\n",
              "      <th>79298</th>\n",
              "      <td>0.9300</td>\n",
              "      <td>['Lead Belly']</td>\n",
              "      <td>0.553</td>\n",
              "      <td>167288</td>\n",
              "      <td>0.362</td>\n",
              "      <td>0</td>\n",
              "      <td>3OzrnTK3RSRu23yfUNoBcG</td>\n",
              "      <td>0.0452</td>\n",
              "      <td>9</td>\n",
              "      <td>0.178</td>\n",
              "      <td>-14.524</td>\n",
              "      <td>1</td>\n",
              "      <td>Pretty Flowers In Your Backyard</td>\n",
              "      <td>0</td>\n",
              "      <td>1947</td>\n",
              "      <td>0.0616</td>\n",
              "      <td>65.703</td>\n",
              "      <td>0.786</td>\n",
              "      <td>1947</td>\n",
              "      <td>0.33 - 0.66</td>\n",
              "    </tr>\n",
              "    <tr>\n",
              "      <th>77516</th>\n",
              "      <td>0.9930</td>\n",
              "      <td>['Rita Ampatzi']</td>\n",
              "      <td>0.297</td>\n",
              "      <td>194787</td>\n",
              "      <td>0.238</td>\n",
              "      <td>0</td>\n",
              "      <td>3VrZ7PBsLvANFIvSRYLE3j</td>\n",
              "      <td>0.8150</td>\n",
              "      <td>6</td>\n",
              "      <td>0.114</td>\n",
              "      <td>-15.367</td>\n",
              "      <td>1</td>\n",
              "      <td>Ela opos eisai</td>\n",
              "      <td>0</td>\n",
              "      <td>1930-01-01</td>\n",
              "      <td>0.0650</td>\n",
              "      <td>171.615</td>\n",
              "      <td>0.728</td>\n",
              "      <td>1930</td>\n",
              "      <td>Less than 0.33</td>\n",
              "    </tr>\n",
              "    <tr>\n",
              "      <th>107213</th>\n",
              "      <td>0.0405</td>\n",
              "      <td>['Descendents']</td>\n",
              "      <td>0.524</td>\n",
              "      <td>111200</td>\n",
              "      <td>0.990</td>\n",
              "      <td>0</td>\n",
              "      <td>2BY2O9OybmxpND0DqNgx97</td>\n",
              "      <td>0.0000</td>\n",
              "      <td>9</td>\n",
              "      <td>0.226</td>\n",
              "      <td>-4.009</td>\n",
              "      <td>0</td>\n",
              "      <td>'Merican</td>\n",
              "      <td>51</td>\n",
              "      <td>2004-03-23</td>\n",
              "      <td>0.1100</td>\n",
              "      <td>100.653</td>\n",
              "      <td>0.370</td>\n",
              "      <td>2004</td>\n",
              "      <td>More than 0.66</td>\n",
              "    </tr>\n",
              "    <tr>\n",
              "      <th>53652</th>\n",
              "      <td>0.4410</td>\n",
              "      <td>['*NSYNC']</td>\n",
              "      <td>0.600</td>\n",
              "      <td>282960</td>\n",
              "      <td>0.544</td>\n",
              "      <td>0</td>\n",
              "      <td>4mljNnZ2eaXKSbEAOzLlLE</td>\n",
              "      <td>0.0000</td>\n",
              "      <td>10</td>\n",
              "      <td>0.255</td>\n",
              "      <td>-8.863</td>\n",
              "      <td>1</td>\n",
              "      <td>(God Must Have Spent) A Little More Time On You</td>\n",
              "      <td>44</td>\n",
              "      <td>1997-05-26</td>\n",
              "      <td>0.0358</td>\n",
              "      <td>83.992</td>\n",
              "      <td>0.320</td>\n",
              "      <td>1997</td>\n",
              "      <td>0.33 - 0.66</td>\n",
              "    </tr>\n",
              "  </tbody>\n",
              "</table>\n",
              "</div>"
            ],
            "text/plain": [
              "        acousticness  ... Energy Intervals\n",
              "77138         0.9950  ...   Less than 0.33\n",
              "79298         0.9300  ...      0.33 - 0.66\n",
              "77516         0.9930  ...   Less than 0.33\n",
              "107213        0.0405  ...   More than 0.66\n",
              "53652         0.4410  ...      0.33 - 0.66\n",
              "\n",
              "[5 rows x 20 columns]"
            ]
          },
          "metadata": {
            "tags": []
          },
          "execution_count": 194
        }
      ]
    },
    {
      "cell_type": "markdown",
      "metadata": {
        "id": "3ZytZ9H3x5X2"
      },
      "source": [
        "Boxplot is used to indicate the relationship between the energy interval categories and popularity."
      ]
    },
    {
      "cell_type": "code",
      "metadata": {
        "colab": {
          "base_uri": "https://localhost:8080/",
          "height": 400
        },
        "id": "INJOkv5-xfCe",
        "outputId": "a19b2857-5a55-4691-a3ed-44eeede31a95"
      },
      "source": [
        "sns.catplot(x=\"Energy Intervals\", y=\"popularity\", kind=\"box\", data=sample_df)"
      ],
      "execution_count": null,
      "outputs": [
        {
          "output_type": "execute_result",
          "data": {
            "text/plain": [
              "<seaborn.axisgrid.FacetGrid at 0x7f2be2e23990>"
            ]
          },
          "metadata": {
            "tags": []
          },
          "execution_count": 195
        },
        {
          "output_type": "display_data",
          "data": {
            "image/png": "[encoded data removed]",
            "text/plain": [
              "<Figure size 360x360 with 1 Axes>"
            ]
          },
          "metadata": {
            "tags": []
          }
        }
      ]
    },
    {
      "cell_type": "markdown",
      "metadata": {
        "id": "CsQ4_6f6VYsU"
      },
      "source": [
        "The songs which have higher energy seem to have higher popularity. This situation will be examined in more detail with the hypothesis test."
      ]
    },
    {
      "cell_type": "markdown",
      "metadata": {
        "id": "C5rPDLKqk4NR"
      },
      "source": [
        "###Comparing Popularity of Songs according to Different Features "
      ]
    },
    {
      "cell_type": "markdown",
      "metadata": {
        "id": "jHqrVgsqWgkc"
      },
      "source": [
        "Here, three different boxplots have been plotted to see which of the different features can have more impact on popularity."
      ]
    },
    {
      "cell_type": "code",
      "metadata": {
        "colab": {
          "base_uri": "https://localhost:8080/",
          "height": 282
        },
        "id": "8mLgepGeay7-",
        "outputId": "4d5a1f79-c95f-44b7-b4f0-f1da4e6be86b"
      },
      "source": [
        "df_part2 = df_part2.set_index(\"popularity\")\n",
        "bp = sample_df.boxplot(column=[\"energy\",\"valence\",\"danceability\"])\n",
        "bp"
      ],
      "execution_count": null,
      "outputs": [
        {
          "output_type": "execute_result",
          "data": {
            "text/plain": [
              "<matplotlib.axes._subplots.AxesSubplot at 0x7f2be2e0af50>"
            ]
          },
          "metadata": {
            "tags": []
          },
          "execution_count": 196
        },
        {
          "output_type": "display_data",
          "data": {
            "image/png": "[encoded data removed]",
            "text/plain": [
              "<Figure size 432x288 with 1 Axes>"
            ]
          },
          "metadata": {
            "tags": []
          }
        }
      ]
    },
    {
      "cell_type": "markdown",
      "metadata": {
        "id": "Kf2cv0mZllNL"
      },
      "source": [
        "The means are close to each other, so it may be said that there is no feature that effects popularity significantly. "
      ]
    },
    {
      "cell_type": "markdown",
      "metadata": {
        "id": "Mj0x4GTgywX5"
      },
      "source": [
        "##Hypothesis Testing "
      ]
    },
    {
      "cell_type": "markdown",
      "metadata": {
        "id": "2bcqD1XTnHnj"
      },
      "source": [
        "###Null Hypothesis and Alternative Hypothesis"
      ]
    },
    {
      "cell_type": "markdown",
      "metadata": {
        "id": "0cPMtw62EmI1"
      },
      "source": [
        "The aim in here is to examine whether the energy values of the songs have an impact on their popularity.\n",
        "\n",
        "**Null Hypothesis ($\\large{H_0}$)**: \n",
        "The energy values of the songs do not play a role in the popularity of the songs.\n",
        "\n",
        "**Alternative Hypothesis ($\\large{H_A}$)**: The energy values of the songs play a role in the popularity of the songs.\n",
        "\n",
        "A new dataframe which includes the songs having energy values higher than 0.66 is created for comparing popularity of the songs. \n",
        "\n"
      ]
    },
    {
      "cell_type": "markdown",
      "metadata": {
        "id": "0F-kEs6cnaMe"
      },
      "source": [
        "###Plotting and Calculations"
      ]
    },
    {
      "cell_type": "code",
      "metadata": {
        "colab": {
          "base_uri": "https://localhost:8080/",
          "height": 343
        },
        "id": "G8aVCIMu6i_K",
        "outputId": "b7afa60f-1e13-4626-c5e9-7c9217acfdad"
      },
      "source": [
        "df_high = sample_df.loc[sample_df[\"Energy Intervals\"]==\"More than 0.66\", :]\n",
        "df_high.head()"
      ],
      "execution_count": null,
      "outputs": [
        {
          "output_type": "execute_result",
          "data": {
            "text/html": [
              "<div>\n",
              "<style scoped>\n",
              "    .dataframe tbody tr th:only-of-type {\n",
              "        vertical-align: middle;\n",
              "    }\n",
              "\n",
              "    .dataframe tbody tr th {\n",
              "        vertical-align: top;\n",
              "    }\n",
              "\n",
              "    .dataframe thead th {\n",
              "        text-align: right;\n",
              "    }\n",
              "</style>\n",
              "<table border=\"1\" class=\"dataframe\">\n",
              "  <thead>\n",
              "    <tr style=\"text-align: right;\">\n",
              "      <th></th>\n",
              "      <th>acousticness</th>\n",
              "      <th>artists</th>\n",
              "      <th>danceability</th>\n",
              "      <th>duration_ms</th>\n",
              "      <th>energy</th>\n",
              "      <th>explicit</th>\n",
              "      <th>id</th>\n",
              "      <th>instrumentalness</th>\n",
              "      <th>key</th>\n",
              "      <th>liveness</th>\n",
              "      <th>loudness</th>\n",
              "      <th>mode</th>\n",
              "      <th>name</th>\n",
              "      <th>popularity</th>\n",
              "      <th>release_date</th>\n",
              "      <th>speechiness</th>\n",
              "      <th>tempo</th>\n",
              "      <th>valence</th>\n",
              "      <th>year</th>\n",
              "      <th>Energy Intervals</th>\n",
              "    </tr>\n",
              "  </thead>\n",
              "  <tbody>\n",
              "    <tr>\n",
              "      <th>107213</th>\n",
              "      <td>0.040500</td>\n",
              "      <td>['Descendents']</td>\n",
              "      <td>0.524</td>\n",
              "      <td>111200</td>\n",
              "      <td>0.990</td>\n",
              "      <td>0</td>\n",
              "      <td>2BY2O9OybmxpND0DqNgx97</td>\n",
              "      <td>0.000000</td>\n",
              "      <td>9</td>\n",
              "      <td>0.226</td>\n",
              "      <td>-4.009</td>\n",
              "      <td>0</td>\n",
              "      <td>'Merican</td>\n",
              "      <td>51</td>\n",
              "      <td>2004-03-23</td>\n",
              "      <td>0.1100</td>\n",
              "      <td>100.653</td>\n",
              "      <td>0.370</td>\n",
              "      <td>2004</td>\n",
              "      <td>More than 0.66</td>\n",
              "    </tr>\n",
              "    <tr>\n",
              "      <th>71959</th>\n",
              "      <td>0.064700</td>\n",
              "      <td>['Brooks &amp; Dunn']</td>\n",
              "      <td>0.573</td>\n",
              "      <td>195107</td>\n",
              "      <td>0.847</td>\n",
              "      <td>0</td>\n",
              "      <td>07VwAUiHy0WXUZ8OLunzA4</td>\n",
              "      <td>0.000082</td>\n",
              "      <td>6</td>\n",
              "      <td>0.383</td>\n",
              "      <td>-7.251</td>\n",
              "      <td>1</td>\n",
              "      <td>Honky Tonk Truth</td>\n",
              "      <td>43</td>\n",
              "      <td>1997-09-16</td>\n",
              "      <td>0.0341</td>\n",
              "      <td>153.971</td>\n",
              "      <td>0.795</td>\n",
              "      <td>1997</td>\n",
              "      <td>More than 0.66</td>\n",
              "    </tr>\n",
              "    <tr>\n",
              "      <th>17335</th>\n",
              "      <td>0.000892</td>\n",
              "      <td>['The Dandy Warhols']</td>\n",
              "      <td>0.558</td>\n",
              "      <td>211227</td>\n",
              "      <td>0.932</td>\n",
              "      <td>0</td>\n",
              "      <td>6ytyCjQqiQBahvYpsGiNKV</td>\n",
              "      <td>0.677000</td>\n",
              "      <td>2</td>\n",
              "      <td>0.152</td>\n",
              "      <td>-5.730</td>\n",
              "      <td>1</td>\n",
              "      <td>Bohemian Like You</td>\n",
              "      <td>17</td>\n",
              "      <td>2010-01-01</td>\n",
              "      <td>0.0389</td>\n",
              "      <td>131.497</td>\n",
              "      <td>0.531</td>\n",
              "      <td>2010</td>\n",
              "      <td>More than 0.66</td>\n",
              "    </tr>\n",
              "    <tr>\n",
              "      <th>107027</th>\n",
              "      <td>0.001860</td>\n",
              "      <td>['One Slack Mind']</td>\n",
              "      <td>0.611</td>\n",
              "      <td>292187</td>\n",
              "      <td>0.751</td>\n",
              "      <td>1</td>\n",
              "      <td>4iI0mSklhpFo2oXKRzK777</td>\n",
              "      <td>0.000410</td>\n",
              "      <td>11</td>\n",
              "      <td>0.201</td>\n",
              "      <td>-7.763</td>\n",
              "      <td>1</td>\n",
              "      <td>Backstroke</td>\n",
              "      <td>0</td>\n",
              "      <td>2017-06-01</td>\n",
              "      <td>0.0756</td>\n",
              "      <td>129.467</td>\n",
              "      <td>0.684</td>\n",
              "      <td>2017</td>\n",
              "      <td>More than 0.66</td>\n",
              "    </tr>\n",
              "    <tr>\n",
              "      <th>173063</th>\n",
              "      <td>0.120000</td>\n",
              "      <td>['Shovels &amp; Rope', 'Shakey Graves']</td>\n",
              "      <td>0.587</td>\n",
              "      <td>268667</td>\n",
              "      <td>0.731</td>\n",
              "      <td>0</td>\n",
              "      <td>6INaSJ4clfZ8pvXSGZQnJ7</td>\n",
              "      <td>0.000006</td>\n",
              "      <td>7</td>\n",
              "      <td>0.132</td>\n",
              "      <td>-5.632</td>\n",
              "      <td>1</td>\n",
              "      <td>Unknown Legend</td>\n",
              "      <td>55</td>\n",
              "      <td>2015-11-20</td>\n",
              "      <td>0.0398</td>\n",
              "      <td>110.936</td>\n",
              "      <td>0.539</td>\n",
              "      <td>2015</td>\n",
              "      <td>More than 0.66</td>\n",
              "    </tr>\n",
              "  </tbody>\n",
              "</table>\n",
              "</div>"
            ],
            "text/plain": [
              "        acousticness  ... Energy Intervals\n",
              "107213      0.040500  ...   More than 0.66\n",
              "71959       0.064700  ...   More than 0.66\n",
              "17335       0.000892  ...   More than 0.66\n",
              "107027      0.001860  ...   More than 0.66\n",
              "173063      0.120000  ...   More than 0.66\n",
              "\n",
              "[5 rows x 20 columns]"
            ]
          },
          "metadata": {
            "tags": []
          },
          "execution_count": 197
        }
      ]
    },
    {
      "cell_type": "markdown",
      "metadata": {
        "id": "Way8vvTKLkTh"
      },
      "source": [
        "At this part, mean and standard deviation of the dataframe and sample mean are displayed."
      ]
    },
    {
      "cell_type": "code",
      "metadata": {
        "colab": {
          "base_uri": "https://localhost:8080/"
        },
        "id": "Ap23nG_iBkY6",
        "outputId": "033b5b62-221b-4be1-c961-0175f30554d2"
      },
      "source": [
        "df_part2 = df_part2.reset_index()\n",
        "popularity_mean = df_part2[\"popularity\"].mean()\n",
        "popularity_std = df_part2[\"popularity\"].std()\n",
        "sample_mean_energetic_songs = df_high[\"popularity\"].mean()\n",
        "print(\"mean:\", popularity_mean)\n",
        "print(\"standard deviation:\", popularity_std)\n",
        "print(\"sample mean:\", sample_mean_energetic_songs)"
      ],
      "execution_count": null,
      "outputs": [
        {
          "output_type": "stream",
          "text": [
            "mean: 25.693380889849703\n",
            "standard deviation: 21.87273982694497\n",
            "sample mean: 33.876666666666665\n"
          ],
          "name": "stdout"
        }
      ]
    },
    {
      "cell_type": "markdown",
      "metadata": {
        "id": "UOoTAh-sYc9x"
      },
      "source": [
        "The normal distribution and the location of the sample mean on that distribution is displayed."
      ]
    },
    {
      "cell_type": "code",
      "metadata": {
        "colab": {
          "base_uri": "https://localhost:8080/",
          "height": 350
        },
        "id": "-Fu5nHYuLjqy",
        "outputId": "7748b920-0e76-491b-fb0f-df2aead16fbd"
      },
      "source": [
        "#Important Note: I took this code from recitation materials and modified it.\n",
        "\n",
        "#mean and std values from the sample\n",
        "offset = 4*popularity_std\n",
        "\n",
        "# calculating the z-score\n",
        "z_score = (sample_mean_energetic_songs - popularity_mean) / popularity_std\n",
        "\n",
        "# the x-axis ticks of the plot\n",
        "# generates 100 equally separated ticks\n",
        "x = np.linspace(popularity_mean - offset, popularity_mean + offset)\n",
        "\n",
        "# probability density function\n",
        "# of the given normal dist.\n",
        "y = stats.norm.pdf(x,popularity_mean,popularity_std)\n",
        "\n",
        "plt.figure(figsize=(10, 5))\n",
        "plt.plot(x,y)\n",
        "# put grids on the figure\n",
        "plt.grid()\n",
        "plt.xlabel('x')\n",
        "plt.ylabel('Normal Distribution')\n",
        "plt.fill_between(x, y, alpha=0.3, color='b')\n",
        "# display the z-score locations\n",
        "plt.axvline(popularity_mean - z_score*popularity_std, ymax=0.1, color=\"red\")\n",
        "plt.axvline(popularity_mean + z_score*popularity_std, ymax=0.1, color=\"red\")\n",
        "# annotate the sample mean\n",
        "\n",
        "plt.title('Normal Dist. with Mean {}, Std {}'.format(popularity_mean, popularity_std))\n",
        "plt.show()"
      ],
      "execution_count": null,
      "outputs": [
        {
          "output_type": "display_data",
          "data": {
            "image/png": "[encoded data removed]",
            "text/plain": [
              "<Figure size 720x360 with 1 Axes>"
            ]
          },
          "metadata": {
            "tags": []
          }
        }
      ]
    },
    {
      "cell_type": "markdown",
      "metadata": {
        "id": "AGtX0Ym4ZuS8"
      },
      "source": [
        "Z-score is calculated to find out how many standard deviations away our sample mean is."
      ]
    },
    {
      "cell_type": "code",
      "metadata": {
        "colab": {
          "base_uri": "https://localhost:8080/"
        },
        "id": "RI5yoO2WYSTP",
        "outputId": "b95820e6-e439-4a21-bdf9-c6ca6a417733"
      },
      "source": [
        "print(z_score)"
      ],
      "execution_count": null,
      "outputs": [
        {
          "output_type": "stream",
          "text": [
            "0.3741317201942847\n"
          ],
          "name": "stdout"
        }
      ]
    },
    {
      "cell_type": "markdown",
      "metadata": {
        "id": "0YL63GgSe_ph"
      },
      "source": [
        "The probability value corresponding to 0.37 in the z table is 0.6443. "
      ]
    },
    {
      "cell_type": "code",
      "metadata": {
        "colab": {
          "base_uri": "https://localhost:8080/"
        },
        "id": "WY3HO6nfbEgV",
        "outputId": "ddbb2681-6478-4d61-9b48-15c9295d2d26"
      },
      "source": [
        "probabilty_val = 0.6443\n",
        "p_value = 1-2*(probabilty_val-0.5)\n",
        "print(p_value)"
      ],
      "execution_count": null,
      "outputs": [
        {
          "output_type": "stream",
          "text": [
            "0.7114\n"
          ],
          "name": "stdout"
        }
      ]
    },
    {
      "cell_type": "markdown",
      "metadata": {
        "id": "_jfYODhZgzTU"
      },
      "source": [
        "###Outcome of Hypothesis Test"
      ]
    },
    {
      "cell_type": "markdown",
      "metadata": {
        "id": "UfHngq9Bff3M"
      },
      "source": [
        "> p-value is higher than significance value, so we fail to reject the null hypothesis.\n",
        "\n",
        "> When the songs having energy values higher than 0.66 were accepted as energetic songs and the significance value was taken as 0.05, the hypothesis could not be proven.\n",
        "\n",
        "> Results may change according to the determined threshold value for the songs to be counted as energetic.\n",
        "\n"
      ]
    },
    {
      "cell_type": "markdown",
      "metadata": {
        "id": "YfEavbZqefFB"
      },
      "source": [
        "#PART 3"
      ]
    },
    {
      "cell_type": "code",
      "metadata": {
        "colab": {
          "base_uri": "https://localhost:8080/",
          "height": 411
        },
        "id": "9QA4Vqz5Gn7n",
        "outputId": "df9c3f96-5530-4f13-ac18-7bd109ef841d"
      },
      "source": [
        "filename = \"data.csv\"\n",
        "df_part3 = pd.read_csv(join(path_prefix, filename))\n",
        "df_part3.head()"
      ],
      "execution_count": null,
      "outputs": [
        {
          "output_type": "execute_result",
          "data": {
            "text/html": [
              "<div>\n",
              "<style scoped>\n",
              "    .dataframe tbody tr th:only-of-type {\n",
              "        vertical-align: middle;\n",
              "    }\n",
              "\n",
              "    .dataframe tbody tr th {\n",
              "        vertical-align: top;\n",
              "    }\n",
              "\n",
              "    .dataframe thead th {\n",
              "        text-align: right;\n",
              "    }\n",
              "</style>\n",
              "<table border=\"1\" class=\"dataframe\">\n",
              "  <thead>\n",
              "    <tr style=\"text-align: right;\">\n",
              "      <th></th>\n",
              "      <th>acousticness</th>\n",
              "      <th>artists</th>\n",
              "      <th>danceability</th>\n",
              "      <th>duration_ms</th>\n",
              "      <th>energy</th>\n",
              "      <th>explicit</th>\n",
              "      <th>id</th>\n",
              "      <th>instrumentalness</th>\n",
              "      <th>key</th>\n",
              "      <th>liveness</th>\n",
              "      <th>loudness</th>\n",
              "      <th>mode</th>\n",
              "      <th>name</th>\n",
              "      <th>popularity</th>\n",
              "      <th>release_date</th>\n",
              "      <th>speechiness</th>\n",
              "      <th>tempo</th>\n",
              "      <th>valence</th>\n",
              "      <th>year</th>\n",
              "    </tr>\n",
              "  </thead>\n",
              "  <tbody>\n",
              "    <tr>\n",
              "      <th>0</th>\n",
              "      <td>0.991000</td>\n",
              "      <td>['Mamie Smith']</td>\n",
              "      <td>0.598</td>\n",
              "      <td>168333</td>\n",
              "      <td>0.224</td>\n",
              "      <td>0</td>\n",
              "      <td>0cS0A1fUEUd1EW3FcF8AEI</td>\n",
              "      <td>0.000522</td>\n",
              "      <td>5</td>\n",
              "      <td>0.3790</td>\n",
              "      <td>-12.628</td>\n",
              "      <td>0</td>\n",
              "      <td>Keep A Song In Your Soul</td>\n",
              "      <td>12</td>\n",
              "      <td>1920</td>\n",
              "      <td>0.0936</td>\n",
              "      <td>149.976</td>\n",
              "      <td>0.6340</td>\n",
              "      <td>1920</td>\n",
              "    </tr>\n",
              "    <tr>\n",
              "      <th>1</th>\n",
              "      <td>0.643000</td>\n",
              "      <td>[\"Screamin' Jay Hawkins\"]</td>\n",
              "      <td>0.852</td>\n",
              "      <td>150200</td>\n",
              "      <td>0.517</td>\n",
              "      <td>0</td>\n",
              "      <td>0hbkKFIJm7Z05H8Zl9w30f</td>\n",
              "      <td>0.026400</td>\n",
              "      <td>5</td>\n",
              "      <td>0.0809</td>\n",
              "      <td>-7.261</td>\n",
              "      <td>0</td>\n",
              "      <td>I Put A Spell On You</td>\n",
              "      <td>7</td>\n",
              "      <td>1920-01-05</td>\n",
              "      <td>0.0534</td>\n",
              "      <td>86.889</td>\n",
              "      <td>0.9500</td>\n",
              "      <td>1920</td>\n",
              "    </tr>\n",
              "    <tr>\n",
              "      <th>2</th>\n",
              "      <td>0.993000</td>\n",
              "      <td>['Mamie Smith']</td>\n",
              "      <td>0.647</td>\n",
              "      <td>163827</td>\n",
              "      <td>0.186</td>\n",
              "      <td>0</td>\n",
              "      <td>11m7laMUgmOKqI3oYzuhne</td>\n",
              "      <td>0.000018</td>\n",
              "      <td>0</td>\n",
              "      <td>0.5190</td>\n",
              "      <td>-12.098</td>\n",
              "      <td>1</td>\n",
              "      <td>Golfing Papa</td>\n",
              "      <td>4</td>\n",
              "      <td>1920</td>\n",
              "      <td>0.1740</td>\n",
              "      <td>97.600</td>\n",
              "      <td>0.6890</td>\n",
              "      <td>1920</td>\n",
              "    </tr>\n",
              "    <tr>\n",
              "      <th>3</th>\n",
              "      <td>0.000173</td>\n",
              "      <td>['Oscar Velazquez']</td>\n",
              "      <td>0.730</td>\n",
              "      <td>422087</td>\n",
              "      <td>0.798</td>\n",
              "      <td>0</td>\n",
              "      <td>19Lc5SfJJ5O1oaxY0fpwfh</td>\n",
              "      <td>0.801000</td>\n",
              "      <td>2</td>\n",
              "      <td>0.1280</td>\n",
              "      <td>-7.311</td>\n",
              "      <td>1</td>\n",
              "      <td>True House Music - Xavier Santos &amp; Carlos Gomi...</td>\n",
              "      <td>17</td>\n",
              "      <td>1920-01-01</td>\n",
              "      <td>0.0425</td>\n",
              "      <td>127.997</td>\n",
              "      <td>0.0422</td>\n",
              "      <td>1920</td>\n",
              "    </tr>\n",
              "    <tr>\n",
              "      <th>4</th>\n",
              "      <td>0.295000</td>\n",
              "      <td>['Mixe']</td>\n",
              "      <td>0.704</td>\n",
              "      <td>165224</td>\n",
              "      <td>0.707</td>\n",
              "      <td>1</td>\n",
              "      <td>2hJjbsLCytGsnAHfdsLejp</td>\n",
              "      <td>0.000246</td>\n",
              "      <td>10</td>\n",
              "      <td>0.4020</td>\n",
              "      <td>-6.036</td>\n",
              "      <td>0</td>\n",
              "      <td>Xuniverxe</td>\n",
              "      <td>2</td>\n",
              "      <td>1920-10-01</td>\n",
              "      <td>0.0768</td>\n",
              "      <td>122.076</td>\n",
              "      <td>0.2990</td>\n",
              "      <td>1920</td>\n",
              "    </tr>\n",
              "  </tbody>\n",
              "</table>\n",
              "</div>"
            ],
            "text/plain": [
              "   acousticness                    artists  ...  valence  year\n",
              "0      0.991000            ['Mamie Smith']  ...   0.6340  1920\n",
              "1      0.643000  [\"Screamin' Jay Hawkins\"]  ...   0.9500  1920\n",
              "2      0.993000            ['Mamie Smith']  ...   0.6890  1920\n",
              "3      0.000173        ['Oscar Velazquez']  ...   0.0422  1920\n",
              "4      0.295000                   ['Mixe']  ...   0.2990  1920\n",
              "\n",
              "[5 rows x 19 columns]"
            ]
          },
          "metadata": {
            "tags": []
          },
          "execution_count": 28
        }
      ]
    },
    {
      "cell_type": "markdown",
      "metadata": {
        "id": "4kTZFaeSG-Ux"
      },
      "source": [
        "##Organizing Data to Apply Machine Learning Algorithms"
      ]
    },
    {
      "cell_type": "markdown",
      "metadata": {
        "id": "uig2dcjVHXiJ"
      },
      "source": [
        "Since there are so many features in our dataset, only energy, danceability and valence features will be used."
      ]
    },
    {
      "cell_type": "code",
      "metadata": {
        "colab": {
          "base_uri": "https://localhost:8080/",
          "height": 204
        },
        "id": "tgiDBPn9HNp-",
        "outputId": "6b95c39c-cc5b-46de-ab88-88fb92425025"
      },
      "source": [
        "df_part3 = df_part3.drop([\"acousticness\",\"duration_ms\",\"explicit\",\"id\",\"explicit\",\"instrumentalness\",\"key\",\"liveness\",\"loudness\",\"mode\",\"release_date\",\"speechiness\",\"tempo\",\"year\"],axis=1)\n",
        "df_part3.head()"
      ],
      "execution_count": null,
      "outputs": [
        {
          "output_type": "execute_result",
          "data": {
            "text/html": [
              "<div>\n",
              "<style scoped>\n",
              "    .dataframe tbody tr th:only-of-type {\n",
              "        vertical-align: middle;\n",
              "    }\n",
              "\n",
              "    .dataframe tbody tr th {\n",
              "        vertical-align: top;\n",
              "    }\n",
              "\n",
              "    .dataframe thead th {\n",
              "        text-align: right;\n",
              "    }\n",
              "</style>\n",
              "<table border=\"1\" class=\"dataframe\">\n",
              "  <thead>\n",
              "    <tr style=\"text-align: right;\">\n",
              "      <th></th>\n",
              "      <th>artists</th>\n",
              "      <th>danceability</th>\n",
              "      <th>energy</th>\n",
              "      <th>name</th>\n",
              "      <th>popularity</th>\n",
              "      <th>valence</th>\n",
              "    </tr>\n",
              "  </thead>\n",
              "  <tbody>\n",
              "    <tr>\n",
              "      <th>0</th>\n",
              "      <td>['Mamie Smith']</td>\n",
              "      <td>0.598</td>\n",
              "      <td>0.224</td>\n",
              "      <td>Keep A Song In Your Soul</td>\n",
              "      <td>12</td>\n",
              "      <td>0.6340</td>\n",
              "    </tr>\n",
              "    <tr>\n",
              "      <th>1</th>\n",
              "      <td>[\"Screamin' Jay Hawkins\"]</td>\n",
              "      <td>0.852</td>\n",
              "      <td>0.517</td>\n",
              "      <td>I Put A Spell On You</td>\n",
              "      <td>7</td>\n",
              "      <td>0.9500</td>\n",
              "    </tr>\n",
              "    <tr>\n",
              "      <th>2</th>\n",
              "      <td>['Mamie Smith']</td>\n",
              "      <td>0.647</td>\n",
              "      <td>0.186</td>\n",
              "      <td>Golfing Papa</td>\n",
              "      <td>4</td>\n",
              "      <td>0.6890</td>\n",
              "    </tr>\n",
              "    <tr>\n",
              "      <th>3</th>\n",
              "      <td>['Oscar Velazquez']</td>\n",
              "      <td>0.730</td>\n",
              "      <td>0.798</td>\n",
              "      <td>True House Music - Xavier Santos &amp; Carlos Gomi...</td>\n",
              "      <td>17</td>\n",
              "      <td>0.0422</td>\n",
              "    </tr>\n",
              "    <tr>\n",
              "      <th>4</th>\n",
              "      <td>['Mixe']</td>\n",
              "      <td>0.704</td>\n",
              "      <td>0.707</td>\n",
              "      <td>Xuniverxe</td>\n",
              "      <td>2</td>\n",
              "      <td>0.2990</td>\n",
              "    </tr>\n",
              "  </tbody>\n",
              "</table>\n",
              "</div>"
            ],
            "text/plain": [
              "                     artists  danceability  ...  popularity valence\n",
              "0            ['Mamie Smith']         0.598  ...          12  0.6340\n",
              "1  [\"Screamin' Jay Hawkins\"]         0.852  ...           7  0.9500\n",
              "2            ['Mamie Smith']         0.647  ...           4  0.6890\n",
              "3        ['Oscar Velazquez']         0.730  ...          17  0.0422\n",
              "4                   ['Mixe']         0.704  ...           2  0.2990\n",
              "\n",
              "[5 rows x 6 columns]"
            ]
          },
          "metadata": {
            "tags": []
          },
          "execution_count": 29
        }
      ]
    },
    {
      "cell_type": "markdown",
      "metadata": {
        "id": "jrmZbtM7IL21"
      },
      "source": [
        "Songs with a popularity value over 25 will be assumed as popular. The following function will be used for encoding. In other words, it will turn the categorical data (songs being popular or not) to numerical data (0 or 1)."
      ]
    },
    {
      "cell_type": "code",
      "metadata": {
        "id": "jRhUWGbgH83I"
      },
      "source": [
        "def categorize_popularity(feature_value):\n",
        "  if feature_value < 25:\n",
        "    return 0\n",
        "  else:\n",
        "    return 1"
      ],
      "execution_count": null,
      "outputs": []
    },
    {
      "cell_type": "code",
      "metadata": {
        "colab": {
          "base_uri": "https://localhost:8080/",
          "height": 238
        },
        "id": "MdSYjAiuIURH",
        "outputId": "0a1ce667-debe-44de-c4be-82d515e12322"
      },
      "source": [
        "df_part3['categorical_popularity'] = df_part3[\"popularity\"].astype(int).apply(categorize_popularity)\n",
        "df_part3.head()"
      ],
      "execution_count": null,
      "outputs": [
        {
          "output_type": "execute_result",
          "data": {
            "text/html": [
              "<div>\n",
              "<style scoped>\n",
              "    .dataframe tbody tr th:only-of-type {\n",
              "        vertical-align: middle;\n",
              "    }\n",
              "\n",
              "    .dataframe tbody tr th {\n",
              "        vertical-align: top;\n",
              "    }\n",
              "\n",
              "    .dataframe thead th {\n",
              "        text-align: right;\n",
              "    }\n",
              "</style>\n",
              "<table border=\"1\" class=\"dataframe\">\n",
              "  <thead>\n",
              "    <tr style=\"text-align: right;\">\n",
              "      <th></th>\n",
              "      <th>artists</th>\n",
              "      <th>danceability</th>\n",
              "      <th>energy</th>\n",
              "      <th>name</th>\n",
              "      <th>popularity</th>\n",
              "      <th>valence</th>\n",
              "      <th>categorical_popularity</th>\n",
              "    </tr>\n",
              "  </thead>\n",
              "  <tbody>\n",
              "    <tr>\n",
              "      <th>0</th>\n",
              "      <td>['Mamie Smith']</td>\n",
              "      <td>0.598</td>\n",
              "      <td>0.224</td>\n",
              "      <td>Keep A Song In Your Soul</td>\n",
              "      <td>12</td>\n",
              "      <td>0.6340</td>\n",
              "      <td>0</td>\n",
              "    </tr>\n",
              "    <tr>\n",
              "      <th>1</th>\n",
              "      <td>[\"Screamin' Jay Hawkins\"]</td>\n",
              "      <td>0.852</td>\n",
              "      <td>0.517</td>\n",
              "      <td>I Put A Spell On You</td>\n",
              "      <td>7</td>\n",
              "      <td>0.9500</td>\n",
              "      <td>0</td>\n",
              "    </tr>\n",
              "    <tr>\n",
              "      <th>2</th>\n",
              "      <td>['Mamie Smith']</td>\n",
              "      <td>0.647</td>\n",
              "      <td>0.186</td>\n",
              "      <td>Golfing Papa</td>\n",
              "      <td>4</td>\n",
              "      <td>0.6890</td>\n",
              "      <td>0</td>\n",
              "    </tr>\n",
              "    <tr>\n",
              "      <th>3</th>\n",
              "      <td>['Oscar Velazquez']</td>\n",
              "      <td>0.730</td>\n",
              "      <td>0.798</td>\n",
              "      <td>True House Music - Xavier Santos &amp; Carlos Gomi...</td>\n",
              "      <td>17</td>\n",
              "      <td>0.0422</td>\n",
              "      <td>0</td>\n",
              "    </tr>\n",
              "    <tr>\n",
              "      <th>4</th>\n",
              "      <td>['Mixe']</td>\n",
              "      <td>0.704</td>\n",
              "      <td>0.707</td>\n",
              "      <td>Xuniverxe</td>\n",
              "      <td>2</td>\n",
              "      <td>0.2990</td>\n",
              "      <td>0</td>\n",
              "    </tr>\n",
              "  </tbody>\n",
              "</table>\n",
              "</div>"
            ],
            "text/plain": [
              "                     artists  danceability  ...  valence categorical_popularity\n",
              "0            ['Mamie Smith']         0.598  ...   0.6340                      0\n",
              "1  [\"Screamin' Jay Hawkins\"]         0.852  ...   0.9500                      0\n",
              "2            ['Mamie Smith']         0.647  ...   0.6890                      0\n",
              "3        ['Oscar Velazquez']         0.730  ...   0.0422                      0\n",
              "4                   ['Mixe']         0.704  ...   0.2990                      0\n",
              "\n",
              "[5 rows x 7 columns]"
            ]
          },
          "metadata": {
            "tags": []
          },
          "execution_count": 31
        }
      ]
    },
    {
      "cell_type": "code",
      "metadata": {
        "id": "knIQfPBWKIFR"
      },
      "source": [
        "feature_columns = [\"danceability\",\"energy\",\"valence\"]\n",
        "X = df_part3[feature_columns]\n",
        "y = df_part3[\"categorical_popularity\"]"
      ],
      "execution_count": null,
      "outputs": []
    },
    {
      "cell_type": "markdown",
      "metadata": {
        "id": "p0b7k9BQNDq7"
      },
      "source": [
        "##Forming Decision Tree"
      ]
    },
    {
      "cell_type": "markdown",
      "metadata": {
        "id": "lIe4BfwINYEh"
      },
      "source": [
        "Splitting data --> 80% for training, 10% for validation, 10% for testing"
      ]
    },
    {
      "cell_type": "code",
      "metadata": {
        "id": "ROmowdVpNMYS"
      },
      "source": [
        "X_train, X_remaining, y_train, y_remaining = train_test_split(X, y, random_state=0, test_size=0.20)\n",
        "X_val, X_test, y_val, y_test = train_test_split(X_remaining, y_remaining, random_state=0, test_size=0.50)"
      ],
      "execution_count": null,
      "outputs": []
    },
    {
      "cell_type": "markdown",
      "metadata": {
        "id": "wNs1paI_N62a"
      },
      "source": [
        "Creating model with max_depth=3 to visualize the decision tree clearly."
      ]
    },
    {
      "cell_type": "code",
      "metadata": {
        "colab": {
          "base_uri": "https://localhost:8080/"
        },
        "id": "bLl9A1HnNwzw",
        "outputId": "29aa71f3-6ee9-4a18-9d02-12f74d96b498"
      },
      "source": [
        "model = DecisionTreeClassifier(max_depth=3, criterion=\"entropy\")\n",
        "model.fit(X_train, y_train)"
      ],
      "execution_count": null,
      "outputs": [
        {
          "output_type": "execute_result",
          "data": {
            "text/plain": [
              "DecisionTreeClassifier(ccp_alpha=0.0, class_weight=None, criterion='entropy',\n",
              "                       max_depth=3, max_features=None, max_leaf_nodes=None,\n",
              "                       min_impurity_decrease=0.0, min_impurity_split=None,\n",
              "                       min_samples_leaf=1, min_samples_split=2,\n",
              "                       min_weight_fraction_leaf=0.0, presort='deprecated',\n",
              "                       random_state=None, splitter='best')"
            ]
          },
          "metadata": {
            "tags": []
          },
          "execution_count": 14
        }
      ]
    },
    {
      "cell_type": "code",
      "metadata": {
        "colab": {
          "base_uri": "https://localhost:8080/"
        },
        "id": "e40X0v-bOU8Z",
        "outputId": "af62b212-0099-4586-d6f8-3f7310519de4"
      },
      "source": [
        "print(export_text(model, feature_names=list(X.columns)))"
      ],
      "execution_count": null,
      "outputs": [
        {
          "output_type": "stream",
          "text": [
            "|--- energy <= 0.35\n",
            "|   |--- valence <= 0.49\n",
            "|   |   |--- energy <= 0.26\n",
            "|   |   |   |--- class: 0\n",
            "|   |   |--- energy >  0.26\n",
            "|   |   |   |--- class: 0\n",
            "|   |--- valence >  0.49\n",
            "|   |   |--- energy <= 0.26\n",
            "|   |   |   |--- class: 0\n",
            "|   |   |--- energy >  0.26\n",
            "|   |   |   |--- class: 0\n",
            "|--- energy >  0.35\n",
            "|   |--- energy <= 0.48\n",
            "|   |   |--- valence <= 0.50\n",
            "|   |   |   |--- class: 1\n",
            "|   |   |--- valence >  0.50\n",
            "|   |   |   |--- class: 0\n",
            "|   |--- energy >  0.48\n",
            "|   |   |--- valence <= 0.18\n",
            "|   |   |   |--- class: 0\n",
            "|   |   |--- valence >  0.18\n",
            "|   |   |   |--- class: 1\n",
            "\n"
          ],
          "name": "stdout"
        }
      ]
    },
    {
      "cell_type": "markdown",
      "metadata": {
        "id": "pNxA-m94ObSy"
      },
      "source": [
        "Visualizing Decision Tree"
      ]
    },
    {
      "cell_type": "code",
      "metadata": {
        "colab": {
          "base_uri": "https://localhost:8080/",
          "height": 319
        },
        "id": "U-dggdJCOa8s",
        "outputId": "9993b7c8-3ef5-4bab-a472-07e2ee88702b"
      },
      "source": [
        "dot_data = StringIO()\n",
        "export_graphviz(model, out_file=dot_data,  \n",
        "                filled=True, rounded=True,\n",
        "                special_characters=True, feature_names = X.columns.values,class_names=[\"Not Popular\", \"Popular\"])\n",
        "graph = pydotplus.graph_from_dot_data(dot_data.getvalue())  \n",
        "graph.write_png('popularity.png')\n",
        "Image(graph.create_png())"
      ],
      "execution_count": null,
      "outputs": [
        {
          "output_type": "execute_result",
          "data": {
            "image/png": "[encoded data removed]",
            "text/plain": [
              "<IPython.core.display.Image object>"
            ]
          },
          "metadata": {
            "tags": []
          },
          "execution_count": 18
        }
      ]
    },
    {
      "cell_type": "markdown",
      "metadata": {
        "id": "AdN89NiuO1Dy"
      },
      "source": [
        "Value variable represents how many popular and unpopular songs exist in the particular node (value = [number of not popular songs,number of popular songs])."
      ]
    },
    {
      "cell_type": "markdown",
      "metadata": {
        "id": "inwOk8BpSyRs"
      },
      "source": [
        "##Hyperparameter Tuning - Visualizing Accuracy Scores with Different max_depth Values"
      ]
    },
    {
      "cell_type": "markdown",
      "metadata": {
        "id": "TGfbNaqETEY_"
      },
      "source": [
        ""
      ]
    },
    {
      "cell_type": "code",
      "metadata": {
        "id": "2c0QWhueTHAL"
      },
      "source": [
        "#this code is taken exactly from recitation materials except the max_depth range\n",
        "train_set_accuracies = []\n",
        "val_set_accuracies = []\n",
        "\n",
        "for i in range(1,30):\n",
        "  model_temp = DecisionTreeClassifier(criterion=\"entropy\", max_depth=i)\n",
        "  model_temp.fit(X_train, y_train)\n",
        "  train_preds = model_temp.predict(X_train)\n",
        "  val_preds = model_temp.predict(X_val)\n",
        "  train_set_accuracies.append(accuracy_score(y_train, train_preds))\n",
        "  val_set_accuracies.append(accuracy_score(y_val, val_preds))"
      ],
      "execution_count": null,
      "outputs": []
    },
    {
      "cell_type": "code",
      "metadata": {
        "colab": {
          "base_uri": "https://localhost:8080/",
          "height": 405
        },
        "id": "ACoTAnR9TLOf",
        "outputId": "037854d3-f459-4e40-bd65-c89262a1ef34"
      },
      "source": [
        "#this code is taken  exactly from recitation materials except the max_depth range\n",
        "fig, ax = plt.subplots(figsize = (10, 6))\n",
        "\n",
        "# the label/tick locations\n",
        "x_ticks = np.arange(len(range(1,30)))\n",
        "# yloc between 0.6-1\n",
        "y_ticks = np.linspace(.6, 1.0, 10)\n",
        "y_labels = [f\"{val*100:.0f}%\" for val in y_ticks]\n",
        "\n",
        "ax.plot(train_set_accuracies, \"go--\", label = \"Train Set Accuracies\")\n",
        "ax.plot(val_set_accuracies, \"bo--\", label = \"Validation Set Accuracies\")\n",
        "\n",
        "ax.set_ylabel(\"Accuracy Score\")\n",
        "ax.set_xlabel(\"max_depth\")\n",
        "ax.set_title(\"Train and Validation Set Accuracy Scores by max_depth\")\n",
        "ax.set_xticks(x_ticks)\n",
        "ax.set_xticklabels(range(1,30))\n",
        "ax.set_yticks(y_ticks)\n",
        "ax.set_yticklabels(y_labels)\n",
        "ax.legend()\n",
        "\n",
        "plt.yticks(rotation = 15)\n",
        "plt.grid()\n",
        "plt.show()"
      ],
      "execution_count": null,
      "outputs": [
        {
          "output_type": "display_data",
          "data": {
            "image/png": "[encoded data removed]",
            "text/plain": [
              "<Figure size 720x432 with 1 Axes>"
            ]
          },
          "metadata": {
            "tags": []
          }
        }
      ]
    },
    {
      "cell_type": "markdown",
      "metadata": {
        "id": "eoDYufz5T0f9"
      },
      "source": [
        "Train set accuracy scores increases continuously because of overfitting. The max_depth value with the highest accuracy score according to validation score will be the optimal hyperparameter. In this case, it is 9 and it will also be checked with GridSearchCV."
      ]
    },
    {
      "cell_type": "markdown",
      "metadata": {
        "id": "MVhHSNwlaJlq"
      },
      "source": [
        "##GridSearchCV"
      ]
    },
    {
      "cell_type": "code",
      "metadata": {
        "colab": {
          "base_uri": "https://localhost:8080/"
        },
        "id": "G8ELaYWAaRbp",
        "outputId": "632c148d-ffe7-4eca-eace-145c745c9b14"
      },
      "source": [
        "parameter_dict = {\"criterion\" : [\"gini\",\"entropy\"], \"max_depth\" : range(1,30)}\n",
        "dtree_gscv = GridSearchCV(model, param_grid=parameter_dict)\n",
        "dtree_gscv.fit(X_train, y_train)"
      ],
      "execution_count": null,
      "outputs": [
        {
          "output_type": "execute_result",
          "data": {
            "text/plain": [
              "GridSearchCV(cv=None, error_score=nan,\n",
              "             estimator=DecisionTreeClassifier(ccp_alpha=0.0, class_weight=None,\n",
              "                                              criterion='entropy', max_depth=3,\n",
              "                                              max_features=None,\n",
              "                                              max_leaf_nodes=None,\n",
              "                                              min_impurity_decrease=0.0,\n",
              "                                              min_impurity_split=None,\n",
              "                                              min_samples_leaf=1,\n",
              "                                              min_samples_split=2,\n",
              "                                              min_weight_fraction_leaf=0.0,\n",
              "                                              presort='deprecated',\n",
              "                                              random_state=None,\n",
              "                                              splitter='best'),\n",
              "             iid='deprecated', n_jobs=None,\n",
              "             param_grid={'criterion': ['gini', 'entropy'],\n",
              "                         'max_depth': range(1, 30)},\n",
              "             pre_dispatch='2*n_jobs', refit=True, return_train_score=False,\n",
              "             scoring=None, verbose=0)"
            ]
          },
          "metadata": {
            "tags": []
          },
          "execution_count": 21
        }
      ]
    },
    {
      "cell_type": "code",
      "metadata": {
        "colab": {
          "base_uri": "https://localhost:8080/"
        },
        "id": "eoLYtRMKaoI_",
        "outputId": "7fb1923a-1f3b-40b6-d704-60fbb6fefd98"
      },
      "source": [
        "dtree_gscv.best_params_"
      ],
      "execution_count": null,
      "outputs": [
        {
          "output_type": "execute_result",
          "data": {
            "text/plain": [
              "{'criterion': 'entropy', 'max_depth': 9}"
            ]
          },
          "metadata": {
            "tags": []
          },
          "execution_count": 22
        }
      ]
    },
    {
      "cell_type": "markdown",
      "metadata": {
        "id": "PNfvsw1xayJ4"
      },
      "source": [
        "As expected, it is 9 again. Also, let's compare the accuracy scores of max_depth = 9 and max_depth = 3 (the one we chose for modeling)"
      ]
    },
    {
      "cell_type": "code",
      "metadata": {
        "colab": {
          "base_uri": "https://localhost:8080/"
        },
        "id": "f0sNsLvsbVLj",
        "outputId": "1d44c844-dad4-44d4-e3d1-acef5c8c18d6"
      },
      "source": [
        "dtree_gscv = DecisionTreeClassifier(max_depth=9, criterion=\"entropy\")\n",
        "dtree_gscv.fit(X_train, y_train)\n",
        "\n",
        "pred_md3 = model.predict(X_test)\n",
        "pred_md9 = dtree_gscv.predict(X_test)\n",
        "print(\"Accuracy for max_depth = 3:\",metrics.accuracy_score(y_test, pred_md3))\n",
        "print(\"Accuracy for max_depth = 9:\",metrics.accuracy_score(y_test, pred_md9))"
      ],
      "execution_count": null,
      "outputs": [
        {
          "output_type": "stream",
          "text": [
            "Accuracy for max_depth = 3: 0.6658638683410746\n",
            "Accuracy for max_depth = 9: 0.6873673949194334\n"
          ],
          "name": "stdout"
        }
      ]
    },
    {
      "cell_type": "markdown",
      "metadata": {
        "id": "NBvXdfyfcNuM"
      },
      "source": [
        "As expected, accuracy for max_depth = 9 is higher."
      ]
    },
    {
      "cell_type": "markdown",
      "metadata": {
        "id": "E2KtBM2t2eCB"
      },
      "source": [
        "##Forming Random Forest"
      ]
    },
    {
      "cell_type": "markdown",
      "metadata": {
        "id": "DtaIX6Y34gP9"
      },
      "source": [
        "Same training, test and validation datas are used for random forest."
      ]
    },
    {
      "cell_type": "code",
      "metadata": {
        "colab": {
          "base_uri": "https://localhost:8080/"
        },
        "id": "HKAsENVo2lVW",
        "outputId": "60373350-b449-4cc4-d0b5-6986cc4ff5ee"
      },
      "source": [
        "model_rf = RandomForestClassifier(n_estimators=100, max_depth=3)\n",
        "model_rf.fit(X_train, y_train)"
      ],
      "execution_count": null,
      "outputs": [
        {
          "output_type": "execute_result",
          "data": {
            "text/plain": [
              "RandomForestClassifier(bootstrap=True, ccp_alpha=0.0, class_weight=None,\n",
              "                       criterion='gini', max_depth=3, max_features='auto',\n",
              "                       max_leaf_nodes=None, max_samples=None,\n",
              "                       min_impurity_decrease=0.0, min_impurity_split=None,\n",
              "                       min_samples_leaf=1, min_samples_split=2,\n",
              "                       min_weight_fraction_leaf=0.0, n_estimators=100,\n",
              "                       n_jobs=None, oob_score=False, random_state=None,\n",
              "                       verbose=0, warm_start=False)"
            ]
          },
          "metadata": {
            "tags": []
          },
          "execution_count": 34
        }
      ]
    },
    {
      "cell_type": "markdown",
      "metadata": {
        "id": "TBmlWLeJ3AMx"
      },
      "source": [
        "Hyperparameter tuning will be done again but for random forest this time. However, the range for max_depth has reduced for code efficiency."
      ]
    },
    {
      "cell_type": "code",
      "metadata": {
        "id": "guj5WYG429Pa"
      },
      "source": [
        "param_grid = { \n",
        "    \"max_depth\" : range(3,10)\n",
        "}"
      ],
      "execution_count": null,
      "outputs": []
    },
    {
      "cell_type": "code",
      "metadata": {
        "colab": {
          "base_uri": "https://localhost:8080/"
        },
        "id": "AN-WATy-3CEo",
        "outputId": "b016582b-83fd-4e12-b18f-04ae898ca960"
      },
      "source": [
        "rf_gscv = GridSearchCV(estimator=model_rf, param_grid=param_grid, cv= 5)\n",
        "rf_gscv.fit(X_train, y_train)"
      ],
      "execution_count": null,
      "outputs": [
        {
          "output_type": "execute_result",
          "data": {
            "text/plain": [
              "GridSearchCV(cv=5, error_score=nan,\n",
              "             estimator=RandomForestClassifier(bootstrap=True, ccp_alpha=0.0,\n",
              "                                              class_weight=None,\n",
              "                                              criterion='gini', max_depth=3,\n",
              "                                              max_features='auto',\n",
              "                                              max_leaf_nodes=None,\n",
              "                                              max_samples=None,\n",
              "                                              min_impurity_decrease=0.0,\n",
              "                                              min_impurity_split=None,\n",
              "                                              min_samples_leaf=1,\n",
              "                                              min_samples_split=2,\n",
              "                                              min_weight_fraction_leaf=0.0,\n",
              "                                              n_estimators=100, n_jobs=None,\n",
              "                                              oob_score=False,\n",
              "                                              random_state=None, verbose=0,\n",
              "                                              warm_start=False),\n",
              "             iid='deprecated', n_jobs=None,\n",
              "             param_grid={'max_depth': range(3, 10)}, pre_dispatch='2*n_jobs',\n",
              "             refit=True, return_train_score=False, scoring=None, verbose=0)"
            ]
          },
          "metadata": {
            "tags": []
          },
          "execution_count": 36
        }
      ]
    },
    {
      "cell_type": "code",
      "metadata": {
        "colab": {
          "base_uri": "https://localhost:8080/"
        },
        "id": "6Y4QcaEk3GRF",
        "outputId": "0221b74e-f0a1-4458-9503-d6ca305d49d9"
      },
      "source": [
        "rf_gscv.best_params_"
      ],
      "execution_count": null,
      "outputs": [
        {
          "output_type": "execute_result",
          "data": {
            "text/plain": [
              "{'max_depth': 9}"
            ]
          },
          "metadata": {
            "tags": []
          },
          "execution_count": 37
        }
      ]
    },
    {
      "cell_type": "code",
      "metadata": {
        "colab": {
          "base_uri": "https://localhost:8080/"
        },
        "id": "YqQvj-0S3NC5",
        "outputId": "85dc1997-f898-489e-e12c-c43a35905e00"
      },
      "source": [
        "rf_best =RandomForestClassifier(n_estimators= 100, max_depth=9)\n",
        "rf_best.fit(X_train, y_train)"
      ],
      "execution_count": null,
      "outputs": [
        {
          "output_type": "execute_result",
          "data": {
            "text/plain": [
              "RandomForestClassifier(bootstrap=True, ccp_alpha=0.0, class_weight=None,\n",
              "                       criterion='gini', max_depth=9, max_features='auto',\n",
              "                       max_leaf_nodes=None, max_samples=None,\n",
              "                       min_impurity_decrease=0.0, min_impurity_split=None,\n",
              "                       min_samples_leaf=1, min_samples_split=2,\n",
              "                       min_weight_fraction_leaf=0.0, n_estimators=100,\n",
              "                       n_jobs=None, oob_score=False, random_state=None,\n",
              "                       verbose=0, warm_start=False)"
            ]
          },
          "metadata": {
            "tags": []
          },
          "execution_count": 39
        }
      ]
    },
    {
      "cell_type": "markdown",
      "metadata": {
        "id": "0NxypMfZ3QMI"
      },
      "source": [
        "In below, accuracy score for optimal max_depth value for random forest modeling is displayed"
      ]
    },
    {
      "cell_type": "code",
      "metadata": {
        "colab": {
          "base_uri": "https://localhost:8080/"
        },
        "id": "9PwKJwjl3SlF",
        "outputId": "164f6c08-d233-45aa-d9e5-505e1802d439"
      },
      "source": [
        "pred_rf =rf_best.predict(X_test)\n",
        "print(\"Accuracy for random forest with max_depth = 9:\",metrics.accuracy_score(y_test, pred_rf))"
      ],
      "execution_count": null,
      "outputs": [
        {
          "output_type": "stream",
          "text": [
            "Accuracy for random forest with max_depth = 9: 0.6902918745340902\n"
          ],
          "name": "stdout"
        }
      ]
    }
  ]
}